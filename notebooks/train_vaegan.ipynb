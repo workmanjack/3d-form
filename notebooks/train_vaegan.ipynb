{
 "cells": [
  {
   "cell_type": "markdown",
   "metadata": {},
   "source": [
    "# Voxel VAE-GAN Training\n",
    "\n",
    "This notebook is designed to provide a wholistic vae-gan training experience. You can adjust the model and training parameters through the sacred configuration file, you can view training progress in tensorboard, and you can (wip) create reconstructions with the saved models!\n",
    "\n",
    "References:\n",
    "\n",
    "* https://github.com/anitan0925/vaegan/blob/master/examples/train.py\n",
    "  * Runs 20 epochs on separate VAE and GAN then 200 on VAEGAN\n",
    "* https://github.com/jlindsey15/VAEGAN/blob/master/main.py\n",
    "  * Almost clear code for vaegan paper\n",
    "* https://arxiv.org/pdf/1512.09300.pdf\n",
    "  * vaegan paper\n",
    "* https://github.com/timsainb/Tensorflow-MultiGPU-VAE-GAN\n",
    "  * Best code yet!\n",
    "  "
   ]
  },
  {
   "cell_type": "markdown",
   "metadata": {},
   "source": [
    "## Setup"
   ]
  },
  {
   "cell_type": "code",
   "execution_count": 1,
   "metadata": {},
   "outputs": [],
   "source": [
    "import env\n",
    "from train_vaegan import train_vaegan\n",
    "from data.thingi10k import Thingi10k\n",
    "from data.modelnet10 import ModelNet10\n",
    "from data import MODELNET10_TOILET_INDEX, MODELNET10_SOFA_INDEX, MODELNET10_SOFA_TOILET_INDEX\n",
    "from models import MODEL_DIR\n",
    "\n",
    "\n",
    "# plot things\n",
    "%matplotlib inline\n",
    "# autoreload modules\n",
    "%load_ext autoreload\n",
    "%autoreload 2"
   ]
  },
  {
   "cell_type": "markdown",
   "metadata": {},
   "source": [
    "## Prepare Sacred Experiment"
   ]
  },
  {
   "cell_type": "code",
   "execution_count": 2,
   "metadata": {},
   "outputs": [],
   "source": [
    "from sacred.observers import FileStorageObserver\n",
    "from sacred import Experiment\n",
    "import os\n",
    "\n",
    "ex = Experiment(name='voxel_vaegan_notebook', interactive=True)\n",
    "ex.observers.append(FileStorageObserver.create('experiments_vaegan'))\n",
    "\n",
    "@ex.main\n",
    "def run_experiment(cfg):\n",
    "    train_vaegan(cfg)\n",
    "\n",
    "import datetime\n",
    "last_model_dir = None"
   ]
  },
  {
   "cell_type": "markdown",
   "metadata": {},
   "source": [
    "## Prepare Model Config\n",
    "\n",
    "The model dir is generated with a timestamp. This keeps you from overwriting past results and keeps results separate to avoid confusing tensorboard.\n",
    "\n",
    "But be warned! These model dirs can take up space, so you might need to periodically go back and delete ones you do not care about.\n",
    "\n",
    "Also, if you ever train a model that you would really like to keep, I recommend moving it to a new directory with a special name like \"best_model_ever\"."
   ]
  },
  {
   "cell_type": "code",
   "execution_count": 3,
   "metadata": {},
   "outputs": [],
   "source": [
    "DATASET_CLASS = 'ModelNet10'\n",
    "#INDEX = MODELNET10_SOFA_TOILET_INDEX\n",
    "#INDEX = MODELNET10_SOFA_INDEX\n",
    "INDEX = MODELNET10_TOILET_INDEX\n",
    "\n",
    "def make_cfg():\n",
    "    model_dir = os.path.join(\n",
    "        MODEL_DIR,\n",
    "        'voxel_vaegan1/modelnet10/{}'.format(datetime.datetime.now().strftime('%Y-%m-%d_%H-%M-%S')))\n",
    "    print(model_dir)\n",
    "    os.makedirs(model_dir)\n",
    "\n",
    "    cfg = {\n",
    "        'cfg': {\n",
    "            \"dataset\": {\n",
    "                \"class\": DATASET_CLASS,\n",
    "                \"index\": INDEX,\n",
    "                #\"tag\": \"animal\",\n",
    "                #\"filter_id\": 126660,\n",
    "                #\"pctile\": 1.0,\n",
    "                \"splits\": True\n",
    "                #\"splits\": {\n",
    "                #    \"train\": .8,\n",
    "                #    \"dev\": .1,\n",
    "                #    \"test\": .1\n",
    "                #}\n",
    "            },\n",
    "            \"generator\": {\n",
    "                \"verbose\": True,\n",
    "                \"pad\": True\n",
    "            }, \n",
    "            \"model\": {\n",
    "                \"ckpt_dir\": model_dir,\n",
    "                \"voxels_dim\": 32,\n",
    "                \"batch_size\": 32,\n",
    "                # Do 0.0001 for 1 epoch, then 0.001 for rest of training\n",
    "                #\"learning_rate\": [(1, 0.0001), (None, 0.001)],\n",
    "                #\"learning_rate\": 0.0001,\n",
    "                \"enc_lr\": 0.0001,\n",
    "                \"dec_lr\": 0.0001,\n",
    "                \"dis_lr\": 0.0001,\n",
    "                \"epochs\": 201,\n",
    "                \"keep_prob\": 0.8,\n",
    "                \"kl_div_loss_weight\": 100,\n",
    "                \"recon_loss_weight\": 10000,\n",
    "                \"ll_weight\": .0001,\n",
    "                \"dec_weight\": 100,\n",
    "                \"latent_dim\": 100,\n",
    "                \"verbose\": True,\n",
    "                \"debug\": True,\n",
    "                \"input_repeats\": 1,\n",
    "                \"display_step\": 1,\n",
    "                #\"example_stl_id\": 126660,\n",
    "                \"voxel_prob_threshold\": 0.065,\n",
    "                \"dev_step\": 5,\n",
    "                \"save_step\": 2,\n",
    "                'launch_tensorboard': True,\n",
    "                'tb_dir': 'tb',\n",
    "                #'tb_compare': [('best_sofa_and_toilet', '/home/jcworkma/jack/3d-form/models/voxel_vaegan1/modelnet10/2019-03-15_17-08-43/tb')],\n",
    "                #'tb_compare': [('best_vaegan', '/home/jcworkma/jack/3d-form/src/../models/voxel_vaegan1/modelnet10/2019-03-17_08-40-29/tb')],\n",
    "                #'tb_compare': [('vaegan_100epochs_toilets', '/home/jcworkma/jack/3d-form/src/../models/voxel_vaegan1/modelnet10/2019-03-18_13-12-53/tb')],\n",
    "                'tb_compare': [('vaegan_1024_filter_discr', '/home/jcworkma/jack/3d-form/src/../models/voxel_vaegan1/modelnet10/2019-03-20_09-39-05/')],\n",
    "                'no_gan': False,\n",
    "                'monitor_memory': True,\n",
    "                # these settings control how often the components' optimizers are executed during the training loop\n",
    "                'train_vae_cadence': 1,\n",
    "                'train_gan_cadence': 1,\n",
    "                'dis_noise': 0,\n",
    "                'adaptive_lr': False\n",
    "            }\n",
    "        }\n",
    "    }\n",
    "    \n",
    "    return cfg"
   ]
  },
  {
   "cell_type": "markdown",
   "metadata": {},
   "source": [
    "## Tensorboard Prep\n",
    "\n",
    "We launch tensorboard with a call to the python subprocess module. Sometimes, that process does not die with the rest of the experiment and lingers on as a system process. This becomes a problem when we try to initialize tensorboard for the next experiment because they cannot share the same port!\n",
    "\n",
    "The function below is designed to solve this problem. It uses the linux pgrep utility to search for existing tensorboard processes and kill them. Note that this probably won't work on Windows."
   ]
  },
  {
   "cell_type": "code",
   "execution_count": 4,
   "metadata": {},
   "outputs": [
    {
     "name": "stdout",
     "output_type": "stream",
     "text": [
      "['pgrep', 'tensorboard'] yielded -> b''\n"
     ]
    }
   ],
   "source": [
    "from utils import kill_tensorboard\n",
    "\n",
    "kill_tensorboard()"
   ]
  },
  {
   "cell_type": "markdown",
   "metadata": {},
   "source": [
    "## Training\n",
    "\n",
    "We start with a check that we are not attempting to overwrite the last MODEL_DIR. If you are blocked by the assert, re-execute the cfg code above to generate a new MODEL_DIR. This will allow you to move ahead with training.\n",
    "\n",
    "The sacred experiment will save away a copy of your experiment settings in an experiments directory. This can be accessed later in case we need to retrieve a prime config.\n",
    "\n",
    "If tensorboard is enabled, tune in at localhost:6006 or your_ip:6006\n",
    "   "
   ]
  },
  {
   "cell_type": "code",
   "execution_count": 5,
   "metadata": {},
   "outputs": [
    {
     "name": "stdout",
     "output_type": "stream",
     "text": [
      "/home/jcworkma/jack/3d-form/src/../models/voxel_vaegan1/modelnet10/2019-03-23_03-26-55\n",
      "['pgrep', 'tensorboard'] yielded -> b''\n"
     ]
    }
   ],
   "source": [
    "cfg = make_cfg()\n",
    "model_dir = cfg.get('cfg').get('model').get('ckpt_dir')\n",
    "kill_tensorboard()"
   ]
  },
  {
   "cell_type": "code",
   "execution_count": 6,
   "metadata": {
    "scrolled": true
   },
   "outputs": [
    {
     "name": "stderr",
     "output_type": "stream",
     "text": [
      "WARNING - root - Added new config entry: \"cfg.dataset.class\"\n",
      "WARNING - root - Added new config entry: \"cfg.dataset.index\"\n",
      "WARNING - root - Added new config entry: \"cfg.dataset.splits\"\n",
      "WARNING - root - Added new config entry: \"cfg.generator.pad\"\n",
      "WARNING - root - Added new config entry: \"cfg.generator.verbose\"\n",
      "WARNING - root - Added new config entry: \"cfg.model.adaptive_lr\"\n",
      "WARNING - root - Added new config entry: \"cfg.model.batch_size\"\n",
      "WARNING - root - Added new config entry: \"cfg.model.ckpt_dir\"\n",
      "WARNING - root - Added new config entry: \"cfg.model.debug\"\n",
      "WARNING - root - Added new config entry: \"cfg.model.dec_lr\"\n",
      "WARNING - root - Added new config entry: \"cfg.model.dec_weight\"\n",
      "WARNING - root - Added new config entry: \"cfg.model.dev_step\"\n",
      "WARNING - root - Added new config entry: \"cfg.model.dis_lr\"\n",
      "WARNING - root - Added new config entry: \"cfg.model.dis_noise\"\n",
      "WARNING - root - Added new config entry: \"cfg.model.display_step\"\n",
      "WARNING - root - Added new config entry: \"cfg.model.enc_lr\"\n",
      "WARNING - root - Added new config entry: \"cfg.model.epochs\"\n",
      "WARNING - root - Added new config entry: \"cfg.model.input_repeats\"\n",
      "WARNING - root - Added new config entry: \"cfg.model.keep_prob\"\n",
      "WARNING - root - Added new config entry: \"cfg.model.kl_div_loss_weight\"\n",
      "WARNING - root - Added new config entry: \"cfg.model.latent_dim\"\n",
      "WARNING - root - Added new config entry: \"cfg.model.launch_tensorboard\"\n",
      "WARNING - root - Added new config entry: \"cfg.model.ll_weight\"\n",
      "WARNING - root - Added new config entry: \"cfg.model.monitor_memory\"\n",
      "WARNING - root - Added new config entry: \"cfg.model.no_gan\"\n",
      "WARNING - root - Added new config entry: \"cfg.model.recon_loss_weight\"\n",
      "WARNING - root - Added new config entry: \"cfg.model.save_step\"\n",
      "WARNING - root - Added new config entry: \"cfg.model.tb_compare\"\n",
      "WARNING - root - Added new config entry: \"cfg.model.tb_dir\"\n",
      "WARNING - root - Added new config entry: \"cfg.model.train_gan_cadence\"\n",
      "WARNING - root - Added new config entry: \"cfg.model.train_vae_cadence\"\n",
      "WARNING - root - Added new config entry: \"cfg.model.verbose\"\n",
      "WARNING - root - Added new config entry: \"cfg.model.voxel_prob_threshold\"\n",
      "WARNING - root - Added new config entry: \"cfg.model.voxels_dim\"\n",
      "INFO - voxel_vaegan_notebook - Running command 'run_experiment'\n",
      "INFO - voxel_vaegan_notebook - Started run with ID \"238\"\n"
     ]
    },
    {
     "name": "stdout",
     "output_type": "stream",
     "text": [
      "Logging to /home/jcworkma/jack/3d-form/src/logs/2019-03-23_03-26__root.log\n",
      "Starting train_vaegan main\n",
      "Numpy random seed: 717296070\n",
      "Saved cfg: /home/jcworkma/jack/3d-form/src/../models/voxel_vaegan1/modelnet10/2019-03-23_03-26-55/cfg.json\n",
      "Dataset: <class 'data.modelnet10.ModelNet10'>\n",
      "Using dataset index /home/jcworkma/jack/3d-form/src/../data/processed/modelnet10_toilet_index.csv and pctile None\n",
      "Shuffling dataset\n",
      "dataset n_input=7104\n",
      "Splitting Datasets\n",
      "Num input = 7104\n",
      "Num batches per epoch = 222.00\n",
      "Initializing VoxelVaegan\n",
      "encoder/enc_conv1/batchnorm/add_1:0: (?, 30, 30, 30, 8)\n",
      "encoder/batch_normalization/batchnorm/add_1:0: (?, 15, 15, 15, 16)\n",
      "encoder/batch_normalization_1/batchnorm/add_1:0: (?, 13, 13, 13, 32)\n",
      "encoder/batch_normalization_2/batchnorm/add_1:0: (?, 7, 7, 7, 64)\n",
      "encoder/batch_normalization_3/batchnorm/add_1:0: (?, 7, 7, 7, 343)\n",
      "encoder/dense_1/BiasAdd:0: (?, 100)\n",
      "encoder/dense_2/BiasAdd:0: (?, 100)\n",
      "epsilon: (?, 100)\n",
      "z: (?, 100)\n",
      "input_z: (?, 100)\n",
      "decoder/dec_dense1/BiasAdd:0: (?, 343)\n",
      "decoder/Relu:0: (?, 343)\n",
      "decoder/reshape_z:0: (?, 7, 7, 7, 1)\n",
      "decoder/batch_normalization_1/batchnorm/add_1:0: (?, 7, 7, 7, 64)\n",
      "decoder/batch_normalization_2/batchnorm/add_1:0: (?, 15, 15, 15, 32)\n",
      "decoder/batch_normalization_3/batchnorm/add_1:0: (?, 15, 15, 15, 16)\n",
      "decoder/batch_normalization_4/batchnorm/add_1:0: (?, 32, 32, 32, 8)\n",
      "decoder/dec_conv5/conv3d_transpose:0: (?, 32, 32, 32, 1)\n",
      "decoder/Sigmoid:0: (?, 32, 32, 32, 1)\n",
      "input_z: (?, 100)\n",
      "decoder_1/dec_dense1/BiasAdd:0: (?, 343)\n",
      "decoder_1/Relu:0: (?, 343)\n",
      "decoder_1/reshape_z:0: (?, 7, 7, 7, 1)\n",
      "decoder_1/batch_normalization_1/batchnorm/add_1:0: (?, 7, 7, 7, 64)\n",
      "decoder_1/batch_normalization_2/batchnorm/add_1:0: (?, 15, 15, 15, 32)\n",
      "decoder_1/batch_normalization_3/batchnorm/add_1:0: (?, 15, 15, 15, 16)\n",
      "decoder_1/batch_normalization_4/batchnorm/add_1:0: (?, 32, 32, 32, 8)\n",
      "decoder_1/dec_conv5/conv3d_transpose:0: (?, 32, 32, 32, 1)\n",
      "decoder_1/Sigmoid:0: (?, 32, 32, 32, 1)\n",
      "tf decoder vars: [<tf.Variable 'decoder/dec_dense1/kernel:0' shape=(100, 343) dtype=float32_ref>, <tf.Variable 'decoder/dec_dense1/bias:0' shape=(343,) dtype=float32_ref>, <tf.Variable 'decoder/batch_normalization/gamma:0' shape=(343,) dtype=float32_ref>, <tf.Variable 'decoder/batch_normalization/beta:0' shape=(343,) dtype=float32_ref>, <tf.Variable 'decoder/batch_normalization/moving_mean:0' shape=(343,) dtype=float32_ref>, <tf.Variable 'decoder/batch_normalization/moving_variance:0' shape=(343,) dtype=float32_ref>, <tf.Variable 'decoder/dec_conv1/kernel:0' shape=(3, 3, 3, 64, 1) dtype=float32_ref>, <tf.Variable 'decoder/batch_normalization_1/gamma:0' shape=(64,) dtype=float32_ref>, <tf.Variable 'decoder/batch_normalization_1/beta:0' shape=(64,) dtype=float32_ref>, <tf.Variable 'decoder/batch_normalization_1/moving_mean:0' shape=(64,) dtype=float32_ref>, <tf.Variable 'decoder/batch_normalization_1/moving_variance:0' shape=(64,) dtype=float32_ref>, <tf.Variable 'decoder/dec_conv2/kernel:0' shape=(3, 3, 3, 32, 64) dtype=float32_ref>, <tf.Variable 'decoder/batch_normalization_2/gamma:0' shape=(32,) dtype=float32_ref>, <tf.Variable 'decoder/batch_normalization_2/beta:0' shape=(32,) dtype=float32_ref>, <tf.Variable 'decoder/batch_normalization_2/moving_mean:0' shape=(32,) dtype=float32_ref>, <tf.Variable 'decoder/batch_normalization_2/moving_variance:0' shape=(32,) dtype=float32_ref>, <tf.Variable 'decoder/dec_conv3/kernel:0' shape=(3, 3, 3, 16, 32) dtype=float32_ref>, <tf.Variable 'decoder/batch_normalization_3/gamma:0' shape=(16,) dtype=float32_ref>, <tf.Variable 'decoder/batch_normalization_3/beta:0' shape=(16,) dtype=float32_ref>, <tf.Variable 'decoder/batch_normalization_3/moving_mean:0' shape=(16,) dtype=float32_ref>, <tf.Variable 'decoder/batch_normalization_3/moving_variance:0' shape=(16,) dtype=float32_ref>, <tf.Variable 'decoder/dec_conv4/kernel:0' shape=(4, 4, 4, 8, 16) dtype=float32_ref>, <tf.Variable 'decoder/batch_normalization_4/gamma:0' shape=(8,) dtype=float32_ref>, <tf.Variable 'decoder/batch_normalization_4/beta:0' shape=(8,) dtype=float32_ref>, <tf.Variable 'decoder/batch_normalization_4/moving_mean:0' shape=(8,) dtype=float32_ref>, <tf.Variable 'decoder/batch_normalization_4/moving_variance:0' shape=(8,) dtype=float32_ref>, <tf.Variable 'decoder/dec_conv5/kernel:0' shape=(3, 3, 3, 1, 8) dtype=float32_ref>]\n",
      "input_x: (?, 32, 32, 32, 1)\n",
      "discriminator/dis_conv1/LeakyRelu:0: (?, 16, 16, 16, 128)\n",
      "discriminator/dis_batchnorm2/batchnorm/add_1:0: (?, 8, 8, 8, 256)\n",
      "discriminator/dis_batchnorm3/batchnorm/add_1:0: (?, 4, 4, 4, 512)\n",
      "discriminator/dis_conv4/Conv3D:0: (?, 1, 1, 1, 1024)\n",
      "discriminator/dis_flatten/Reshape:0: (?, 1024)\n",
      "discriminator/dis_batchnorm_ll/batchnorm/add_1:0: (?, 1024)\n",
      "discriminator/dis_dense2_decision/Sigmoid:0: (?, 1)\n",
      "Failed to train vaegan\n",
      "Traceback (most recent call last):\n",
      "  File \"/home/jcworkma/jack/3d-form/src/train_vaegan.py\", line 124, in train_vaegan\n",
      "    vaegan = VoxelVaegan.initFromCfg(cfg)\n",
      "  File \"/home/jcworkma/jack/3d-form/src/models/voxel_vaegan.py\", line 152, in initFromCfg\n",
      "    adaptive_lr=cfg_model.get('adaptive_lr'))\n",
      "  File \"/home/jcworkma/jack/3d-form/src/models/voxel_vaegan.py\", line 99, in __init__\n",
      "    self.d_x_noise, self.d_x_noise_ll = self._make_discriminator(self.g_noise)\n",
      "  File \"/home/jcworkma/jack/3d-form/src/models/voxel_vaegan.py\", line 444, in _make_discriminator\n",
      "    layer_input = layer(layer_input)\n",
      "TypeError: 'Tensor' object is not callable\n",
      "Stopping Heartbeat\n",
      "Failed after 0:00:04!\n"
     ]
    },
    {
     "ename": "UnboundLocalError",
     "evalue": "local variable 'vaegan' referenced before assignment",
     "output_type": "error",
     "traceback": [
      "\u001b[0;31m---------------------------------------------------------------------------\u001b[0m",
      "\u001b[0;31mTypeError\u001b[0m                                 Traceback (most recent call last)",
      "\u001b[0;32m~/jack/3d-form/src/train_vaegan.py\u001b[0m in \u001b[0;36mtrain_vaegan\u001b[0;34m(cfg)\u001b[0m\n\u001b[1;32m    123\u001b[0m     \u001b[0;32mtry\u001b[0m\u001b[0;34m:\u001b[0m\u001b[0;34m\u001b[0m\u001b[0m\n\u001b[0;32m--> 124\u001b[0;31m         \u001b[0mvaegan\u001b[0m \u001b[0;34m=\u001b[0m \u001b[0mVoxelVaegan\u001b[0m\u001b[0;34m.\u001b[0m\u001b[0minitFromCfg\u001b[0m\u001b[0;34m(\u001b[0m\u001b[0mcfg\u001b[0m\u001b[0;34m)\u001b[0m\u001b[0;34m\u001b[0m\u001b[0m\n\u001b[0m\u001b[1;32m    125\u001b[0m \u001b[0;34m\u001b[0m\u001b[0m\n",
      "\u001b[0;32m~/jack/3d-form/src/models/voxel_vaegan.py\u001b[0m in \u001b[0;36minitFromCfg\u001b[0;34m(cls, cfg)\u001b[0m\n\u001b[1;32m    151\u001b[0m                      \u001b[0mdis_noise\u001b[0m\u001b[0;34m=\u001b[0m\u001b[0mcfg_model\u001b[0m\u001b[0;34m.\u001b[0m\u001b[0mget\u001b[0m\u001b[0;34m(\u001b[0m\u001b[0;34m'dis_noise'\u001b[0m\u001b[0;34m)\u001b[0m\u001b[0;34m,\u001b[0m\u001b[0;34m\u001b[0m\u001b[0m\n\u001b[0;32m--> 152\u001b[0;31m                      adaptive_lr=cfg_model.get('adaptive_lr'))\n\u001b[0m\u001b[1;32m    153\u001b[0m         \u001b[0;32mreturn\u001b[0m \u001b[0mvaegan\u001b[0m\u001b[0;34m\u001b[0m\u001b[0m\n",
      "\u001b[0;32m~/jack/3d-form/src/models/voxel_vaegan.py\u001b[0m in \u001b[0;36m__init__\u001b[0;34m(self, input_dim, latent_dim, keep_prob, verbose, no_gan, kl_div_loss_weight, recon_loss_weight, ll_weight, dec_weight, debug, ckpt_dir, tb_dir, train_vae_cadence, train_gan_cadence, dis_noise, adaptive_lr)\u001b[0m\n\u001b[1;32m     98\u001b[0m             \u001b[0;31m# discriminate from noise, vae, input\u001b[0m\u001b[0;34m\u001b[0m\u001b[0;34m\u001b[0m\u001b[0m\n\u001b[0;32m---> 99\u001b[0;31m             \u001b[0mself\u001b[0m\u001b[0;34m.\u001b[0m\u001b[0md_x_noise\u001b[0m\u001b[0;34m,\u001b[0m \u001b[0mself\u001b[0m\u001b[0;34m.\u001b[0m\u001b[0md_x_noise_ll\u001b[0m \u001b[0;34m=\u001b[0m \u001b[0mself\u001b[0m\u001b[0;34m.\u001b[0m\u001b[0m_make_discriminator\u001b[0m\u001b[0;34m(\u001b[0m\u001b[0mself\u001b[0m\u001b[0;34m.\u001b[0m\u001b[0mg_noise\u001b[0m\u001b[0;34m)\u001b[0m\u001b[0;34m\u001b[0m\u001b[0m\n\u001b[0m\u001b[1;32m    100\u001b[0m             \u001b[0mself\u001b[0m\u001b[0;34m.\u001b[0m\u001b[0md_x_vae\u001b[0m\u001b[0;34m,\u001b[0m \u001b[0mself\u001b[0m\u001b[0;34m.\u001b[0m\u001b[0md_x_vae_ll\u001b[0m \u001b[0;34m=\u001b[0m \u001b[0mself\u001b[0m\u001b[0;34m.\u001b[0m\u001b[0m_make_discriminator\u001b[0m\u001b[0;34m(\u001b[0m\u001b[0mself\u001b[0m\u001b[0;34m.\u001b[0m\u001b[0mdecoder\u001b[0m\u001b[0;34m)\u001b[0m\u001b[0;34m\u001b[0m\u001b[0m\n",
      "\u001b[0;32m~/jack/3d-form/src/models/voxel_vaegan.py\u001b[0m in \u001b[0;36m_make_discriminator\u001b[0;34m(self, input_x)\u001b[0m\n\u001b[1;32m    443\u001b[0m \u001b[0;34m\u001b[0m\u001b[0m\n\u001b[0;32m--> 444\u001b[0;31m                 \u001b[0mlayer_input\u001b[0m \u001b[0;34m=\u001b[0m \u001b[0mlayer\u001b[0m\u001b[0;34m(\u001b[0m\u001b[0mlayer_input\u001b[0m\u001b[0;34m)\u001b[0m\u001b[0;34m\u001b[0m\u001b[0m\n\u001b[0m\u001b[1;32m    445\u001b[0m                 \u001b[0;32mif\u001b[0m \u001b[0mi\u001b[0m \u001b[0;34m+\u001b[0m \u001b[0;36m2\u001b[0m \u001b[0;34m==\u001b[0m \u001b[0mlen\u001b[0m\u001b[0;34m(\u001b[0m\u001b[0mself\u001b[0m\u001b[0;34m.\u001b[0m\u001b[0m_d_layers\u001b[0m\u001b[0;34m)\u001b[0m\u001b[0;34m:\u001b[0m\u001b[0;34m\u001b[0m\u001b[0m\n",
      "\u001b[0;31mTypeError\u001b[0m: 'Tensor' object is not callable",
      "\nDuring handling of the above exception, another exception occurred:\n",
      "\u001b[0;31mUnboundLocalError\u001b[0m                         Traceback (most recent call last)",
      "\u001b[0;32m<ipython-input-6-808f5a7a5d49>\u001b[0m in \u001b[0;36m<module>\u001b[0;34m\u001b[0m\n\u001b[1;32m      5\u001b[0m     \u001b[0mlast_model_dir\u001b[0m \u001b[0;34m=\u001b[0m \u001b[0mmodel_dir\u001b[0m\u001b[0;34m\u001b[0m\u001b[0m\n\u001b[1;32m      6\u001b[0m \u001b[0;34m\u001b[0m\u001b[0m\n\u001b[0;32m----> 7\u001b[0;31m \u001b[0mex\u001b[0m\u001b[0;34m.\u001b[0m\u001b[0mrun\u001b[0m\u001b[0;34m(\u001b[0m\u001b[0mconfig_updates\u001b[0m\u001b[0;34m=\u001b[0m\u001b[0mcfg\u001b[0m\u001b[0;34m)\u001b[0m\u001b[0;34m\u001b[0m\u001b[0m\n\u001b[0m",
      "\u001b[0;32m~/jack/3d-form/.3d-form/lib/python3.5/site-packages/sacred/experiment.py\u001b[0m in \u001b[0;36mrun\u001b[0;34m(self, command_name, config_updates, named_configs, meta_info, options)\u001b[0m\n\u001b[1;32m    207\u001b[0m         run = self._create_run(command_name, config_updates, named_configs,\n\u001b[1;32m    208\u001b[0m                                meta_info, options)\n\u001b[0;32m--> 209\u001b[0;31m         \u001b[0mrun\u001b[0m\u001b[0;34m(\u001b[0m\u001b[0;34m)\u001b[0m\u001b[0;34m\u001b[0m\u001b[0m\n\u001b[0m\u001b[1;32m    210\u001b[0m         \u001b[0;32mreturn\u001b[0m \u001b[0mrun\u001b[0m\u001b[0;34m\u001b[0m\u001b[0m\n\u001b[1;32m    211\u001b[0m \u001b[0;34m\u001b[0m\u001b[0m\n",
      "\u001b[0;32m~/jack/3d-form/.3d-form/lib/python3.5/site-packages/sacred/run.py\u001b[0m in \u001b[0;36m__call__\u001b[0;34m(self, *args)\u001b[0m\n\u001b[1;32m    219\u001b[0m                 \u001b[0mself\u001b[0m\u001b[0;34m.\u001b[0m\u001b[0m_start_heartbeat\u001b[0m\u001b[0;34m(\u001b[0m\u001b[0;34m)\u001b[0m\u001b[0;34m\u001b[0m\u001b[0m\n\u001b[1;32m    220\u001b[0m                 \u001b[0mself\u001b[0m\u001b[0;34m.\u001b[0m\u001b[0m_execute_pre_run_hooks\u001b[0m\u001b[0;34m(\u001b[0m\u001b[0;34m)\u001b[0m\u001b[0;34m\u001b[0m\u001b[0m\n\u001b[0;32m--> 221\u001b[0;31m                 \u001b[0mself\u001b[0m\u001b[0;34m.\u001b[0m\u001b[0mresult\u001b[0m \u001b[0;34m=\u001b[0m \u001b[0mself\u001b[0m\u001b[0;34m.\u001b[0m\u001b[0mmain_function\u001b[0m\u001b[0;34m(\u001b[0m\u001b[0;34m*\u001b[0m\u001b[0margs\u001b[0m\u001b[0;34m)\u001b[0m\u001b[0;34m\u001b[0m\u001b[0m\n\u001b[0m\u001b[1;32m    222\u001b[0m                 \u001b[0mself\u001b[0m\u001b[0;34m.\u001b[0m\u001b[0m_execute_post_run_hooks\u001b[0m\u001b[0;34m(\u001b[0m\u001b[0;34m)\u001b[0m\u001b[0;34m\u001b[0m\u001b[0m\n\u001b[1;32m    223\u001b[0m                 \u001b[0;32mif\u001b[0m \u001b[0mself\u001b[0m\u001b[0;34m.\u001b[0m\u001b[0mresult\u001b[0m \u001b[0;32mis\u001b[0m \u001b[0;32mnot\u001b[0m \u001b[0;32mNone\u001b[0m\u001b[0;34m:\u001b[0m\u001b[0;34m\u001b[0m\u001b[0m\n",
      "\u001b[0;32m~/jack/3d-form/.3d-form/lib/python3.5/site-packages/sacred/config/captured_function.py\u001b[0m in \u001b[0;36mcaptured_function\u001b[0;34m(wrapped, instance, args, kwargs)\u001b[0m\n\u001b[1;32m     44\u001b[0m         \u001b[0mstart_time\u001b[0m \u001b[0;34m=\u001b[0m \u001b[0mtime\u001b[0m\u001b[0;34m.\u001b[0m\u001b[0mtime\u001b[0m\u001b[0;34m(\u001b[0m\u001b[0;34m)\u001b[0m\u001b[0;34m\u001b[0m\u001b[0m\n\u001b[1;32m     45\u001b[0m     \u001b[0;31m# =================== run actual function =================================\u001b[0m\u001b[0;34m\u001b[0m\u001b[0;34m\u001b[0m\u001b[0m\n\u001b[0;32m---> 46\u001b[0;31m     \u001b[0mresult\u001b[0m \u001b[0;34m=\u001b[0m \u001b[0mwrapped\u001b[0m\u001b[0;34m(\u001b[0m\u001b[0;34m*\u001b[0m\u001b[0margs\u001b[0m\u001b[0;34m,\u001b[0m \u001b[0;34m**\u001b[0m\u001b[0mkwargs\u001b[0m\u001b[0;34m)\u001b[0m\u001b[0;34m\u001b[0m\u001b[0m\n\u001b[0m\u001b[1;32m     47\u001b[0m     \u001b[0;31m# =========================================================================\u001b[0m\u001b[0;34m\u001b[0m\u001b[0;34m\u001b[0m\u001b[0m\n\u001b[1;32m     48\u001b[0m     \u001b[0;32mif\u001b[0m \u001b[0mwrapped\u001b[0m\u001b[0;34m.\u001b[0m\u001b[0mlogger\u001b[0m \u001b[0;32mis\u001b[0m \u001b[0;32mnot\u001b[0m \u001b[0;32mNone\u001b[0m\u001b[0;34m:\u001b[0m\u001b[0;34m\u001b[0m\u001b[0m\n",
      "\u001b[0;32m<ipython-input-2-c246947c91ce>\u001b[0m in \u001b[0;36mrun_experiment\u001b[0;34m(cfg)\u001b[0m\n\u001b[1;32m      8\u001b[0m \u001b[0;34m@\u001b[0m\u001b[0mex\u001b[0m\u001b[0;34m.\u001b[0m\u001b[0mmain\u001b[0m\u001b[0;34m\u001b[0m\u001b[0m\n\u001b[1;32m      9\u001b[0m \u001b[0;32mdef\u001b[0m \u001b[0mrun_experiment\u001b[0m\u001b[0;34m(\u001b[0m\u001b[0mcfg\u001b[0m\u001b[0;34m)\u001b[0m\u001b[0;34m:\u001b[0m\u001b[0;34m\u001b[0m\u001b[0m\n\u001b[0;32m---> 10\u001b[0;31m     \u001b[0mtrain_vaegan\u001b[0m\u001b[0;34m(\u001b[0m\u001b[0mcfg\u001b[0m\u001b[0;34m)\u001b[0m\u001b[0;34m\u001b[0m\u001b[0m\n\u001b[0m\u001b[1;32m     11\u001b[0m \u001b[0;34m\u001b[0m\u001b[0m\n\u001b[1;32m     12\u001b[0m \u001b[0;32mimport\u001b[0m \u001b[0mdatetime\u001b[0m\u001b[0;34m\u001b[0m\u001b[0m\n",
      "\u001b[0;32m~/jack/3d-form/src/train_vaegan.py\u001b[0m in \u001b[0;36mtrain_vaegan\u001b[0;34m(cfg)\u001b[0m\n\u001b[1;32m    176\u001b[0m     \u001b[0;32mexcept\u001b[0m \u001b[0mException\u001b[0m \u001b[0;32mas\u001b[0m \u001b[0mexc\u001b[0m\u001b[0;34m:\u001b[0m\u001b[0;34m\u001b[0m\u001b[0m\n\u001b[1;32m    177\u001b[0m         \u001b[0mlogging\u001b[0m\u001b[0;34m.\u001b[0m\u001b[0mexception\u001b[0m\u001b[0;34m(\u001b[0m\u001b[0;34m'Failed to train vaegan'\u001b[0m\u001b[0;34m)\u001b[0m\u001b[0;34m\u001b[0m\u001b[0m\n\u001b[0;32m--> 178\u001b[0;31m         \u001b[0mvaegan\u001b[0m\u001b[0;34m.\u001b[0m\u001b[0mclose\u001b[0m\u001b[0;34m(\u001b[0m\u001b[0;34m)\u001b[0m\u001b[0;34m\u001b[0m\u001b[0m\n\u001b[0m\u001b[1;32m    179\u001b[0m         \u001b[0;32mraise\u001b[0m\u001b[0;34m(\u001b[0m\u001b[0mexc\u001b[0m\u001b[0;34m)\u001b[0m\u001b[0;34m\u001b[0m\u001b[0m\n\u001b[1;32m    180\u001b[0m \u001b[0;34m\u001b[0m\u001b[0m\n",
      "\u001b[0;31mUnboundLocalError\u001b[0m: local variable 'vaegan' referenced before assignment"
     ]
    }
   ],
   "source": [
    "if last_model_dir == model_dir:\n",
    "    print('dont overwrite!')\n",
    "    assert False\n",
    "else:\n",
    "    last_model_dir = model_dir\n",
    "\n",
    "ex.run(config_updates=cfg)"
   ]
  },
  {
   "cell_type": "code",
   "execution_count": null,
   "metadata": {},
   "outputs": [],
   "source": []
  },
  {
   "cell_type": "code",
   "execution_count": null,
   "metadata": {},
   "outputs": [],
   "source": []
  }
 ],
 "metadata": {
  "kernelspec": {
   "display_name": ".3d-form",
   "language": "python",
   "name": ".3d-form"
  },
  "language_info": {
   "codemirror_mode": {
    "name": "ipython",
    "version": 3
   },
   "file_extension": ".py",
   "mimetype": "text/x-python",
   "name": "python",
   "nbconvert_exporter": "python",
   "pygments_lexer": "ipython3",
   "version": "3.5.2"
  }
 },
 "nbformat": 4,
 "nbformat_minor": 2
}
