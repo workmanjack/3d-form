{
 "cells": [
  {
   "cell_type": "markdown",
   "metadata": {},
   "source": [
    "# Voxel VAE-GAN Training\n",
    "\n",
    "This notebook is designed to provide a wholistic vae-gan training experience. You can adjust the model and training parameters through the sacred configuration file, you can view training progress in tensorboard, and you can (wip) create reconstructions with the saved models!\n",
    "\n",
    "References:\n",
    "\n",
    "* https://github.com/anitan0925/vaegan/blob/master/examples/train.py\n",
    "  * Runs 20 epochs on separate VAE and GAN then 200 on VAEGAN\n",
    "* https://github.com/jlindsey15/VAEGAN/blob/master/main.py\n",
    "  * Almost clear code for vaegan paper\n",
    "* https://arxiv.org/pdf/1512.09300.pdf\n",
    "  * vaegan paper\n",
    "* https://github.com/timsainb/Tensorflow-MultiGPU-VAE-GAN\n",
    "  * Best code yet!\n",
    "  "
   ]
  },
  {
   "cell_type": "markdown",
   "metadata": {},
   "source": [
    "## Setup"
   ]
  },
  {
   "cell_type": "code",
   "execution_count": 1,
   "metadata": {},
   "outputs": [],
   "source": [
    "import env\n",
    "from train_vaegan import train_vaegan\n",
    "from data.thingi10k import Thingi10k\n",
    "from data.modelnet10 import ModelNet10\n",
    "from data import MODELNET10_TOILET_INDEX, MODELNET10_SOFA_INDEX, MODELNET10_SOFA_TOILET_INDEX\n",
    "from models import MODEL_DIR\n",
    "\n",
    "\n",
    "# plot things\n",
    "%matplotlib inline\n",
    "# autoreload modules\n",
    "%load_ext autoreload\n",
    "%autoreload 2"
   ]
  },
  {
   "cell_type": "markdown",
   "metadata": {},
   "source": [
    "## Prepare Sacred Experiment"
   ]
  },
  {
   "cell_type": "code",
   "execution_count": 2,
   "metadata": {},
   "outputs": [],
   "source": [
    "from sacred.observers import FileStorageObserver\n",
    "from sacred import Experiment\n",
    "import os\n",
    "\n",
    "ex = Experiment(name='voxel_vaegan_notebook', interactive=True)\n",
    "ex.observers.append(FileStorageObserver.create('experiments_vaegan'))\n",
    "\n",
    "@ex.main\n",
    "def run_experiment(cfg):\n",
    "    train_vaegan(cfg)\n",
    "\n",
    "import datetime\n",
    "last_model_dir = None"
   ]
  },
  {
   "cell_type": "markdown",
   "metadata": {},
   "source": [
    "## Prepare Model Config\n",
    "\n",
    "The model dir is generated with a timestamp. This keeps you from overwriting past results and keeps results separate to avoid confusing tensorboard.\n",
    "\n",
    "But be warned! These model dirs can take up space, so you might need to periodically go back and delete ones you do not care about.\n",
    "\n",
    "Also, if you ever train a model that you would really like to keep, I recommend moving it to a new directory with a special name like \"best_model_ever\"."
   ]
  },
  {
   "cell_type": "code",
   "execution_count": 3,
   "metadata": {},
   "outputs": [],
   "source": [
    "DATASET_CLASS = 'ModelNet10'\n",
    "#INDEX = MODELNET10_SOFA_TOILET_INDEX\n",
    "#INDEX = MODELNET10_SOFA_INDEX\n",
    "INDEX = MODELNET10_TOILET_INDEX\n",
    "\n",
    "def make_cfg():\n",
    "    model_dir = os.path.join(\n",
    "        MODEL_DIR,\n",
    "        'voxel_vaegan1/modelnet10/{}'.format(datetime.datetime.now().strftime('%Y-%m-%d_%H-%M-%S')))\n",
    "    print(model_dir)\n",
    "    os.makedirs(model_dir)\n",
    "\n",
    "    cfg = {\n",
    "        'cfg': {\n",
    "            \"dataset\": {\n",
    "                \"class\": DATASET_CLASS,\n",
    "                \"index\": INDEX,\n",
    "                #\"tag\": \"animal\",\n",
    "                #\"filter_id\": 126660,\n",
    "                #\"pctile\": 1.0,\n",
    "                \"splits\": True\n",
    "                #\"splits\": {\n",
    "                #    \"train\": .8,\n",
    "                #    \"dev\": .1,\n",
    "                #    \"test\": .1\n",
    "                #}\n",
    "            },\n",
    "            \"generator\": {\n",
    "                \"verbose\": True,\n",
    "                \"pad\": True\n",
    "            }, \n",
    "            \"model\": {\n",
    "                \"ckpt_dir\": model_dir,\n",
    "                \"voxels_dim\": 32,\n",
    "                \"batch_size\": 32,\n",
    "                # Do 0.0001 for 1 epoch, then 0.001 for rest of training\n",
    "                #\"learning_rate\": [(1, 0.0001), (None, 0.001)],\n",
    "                #\"learning_rate\": 0.0001,\n",
    "                \"enc_lr\": 0.0001,\n",
    "                \"dec_lr\": 0.0001,\n",
    "                \"dis_lr\": 0.0001,\n",
    "                \"epochs\": 201,\n",
    "                \"keep_prob\": 0.8,\n",
    "                \"kl_div_loss_weight\": 100,\n",
    "                \"recon_loss_weight\": 10000,\n",
    "                \"ll_weight\": 0.001,\n",
    "                \"dec_weight\": 100,\n",
    "                \"latent_dim\": 100,\n",
    "                \"verbose\": True,\n",
    "                \"debug\": False,\n",
    "                \"input_repeats\": 1,\n",
    "                \"display_step\": 6000,\n",
    "                #\"example_stl_id\": 126660,\n",
    "                \"voxel_prob_threshold\": 0.065,\n",
    "                \"dev_step\": 10,\n",
    "                \"save_step\": 10,\n",
    "                'launch_tensorboard': True,\n",
    "                'tb_dir': 'tb',\n",
    "                #'tb_compare': [('best_sofa_and_toilet', '/home/jcworkma/jack/3d-form/models/voxel_vaegan1/modelnet10/2019-03-15_17-08-43/tb')],\n",
    "                'tb_compare': [('best_vaegan', '/home/jcworkma/jack/3d-form/src/../models/voxel_vaegan1/modelnet10/2019-03-17_08-40-29/tb')],\n",
    "                'no_gan': False,\n",
    "                'monitor_memory': True\n",
    "            }\n",
    "        }\n",
    "    }\n",
    "    \n",
    "    return cfg"
   ]
  },
  {
   "cell_type": "markdown",
   "metadata": {},
   "source": [
    "## Tensorboard Prep\n",
    "\n",
    "We launch tensorboard with a call to the python subprocess module. Sometimes, that process does not die with the rest of the experiment and lingers on as a system process. This becomes a problem when we try to initialize tensorboard for the next experiment because they cannot share the same port!\n",
    "\n",
    "The function below is designed to solve this problem. It uses the linux pgrep utility to search for existing tensorboard processes and kill them. Note that this probably won't work on Windows."
   ]
  },
  {
   "cell_type": "code",
   "execution_count": 4,
   "metadata": {},
   "outputs": [
    {
     "name": "stdout",
     "output_type": "stream",
     "text": [
      "['pgrep', 'tensorboard'] yielded -> b''\n"
     ]
    }
   ],
   "source": [
    "from utils import kill_tensorboard\n",
    "\n",
    "kill_tensorboard()"
   ]
  },
  {
   "cell_type": "markdown",
   "metadata": {},
   "source": [
    "## Training\n",
    "\n",
    "We start with a check that we are not attempting to overwrite the last MODEL_DIR. If you are blocked by the assert, re-execute the cfg code above to generate a new MODEL_DIR. This will allow you to move ahead with training.\n",
    "\n",
    "The sacred experiment will save away a copy of your experiment settings in an experiments directory. This can be accessed later in case we need to retrieve a prime config.\n",
    "\n",
    "If tensorboard is enabled, tune in at localhost:6006 or your_ip:6006\n",
    "   "
   ]
  },
  {
   "cell_type": "code",
   "execution_count": null,
   "metadata": {},
   "outputs": [
    {
     "name": "stdout",
     "output_type": "stream",
     "text": [
      "/home/jcworkma/jack/3d-form/src/../models/voxel_vaegan1/modelnet10/2019-03-17_15-32-59\n",
      "['pgrep', 'tensorboard'] yielded -> b''\n"
     ]
    }
   ],
   "source": [
    "cfg = make_cfg()\n",
    "model_dir = cfg.get('cfg').get('model').get('ckpt_dir')\n",
    "kill_tensorboard()"
   ]
  },
  {
   "cell_type": "code",
   "execution_count": null,
   "metadata": {
    "scrolled": true
   },
   "outputs": [
    {
     "name": "stderr",
     "output_type": "stream",
     "text": [
      "WARNING - root - Added new config entry: \"cfg.dataset.class\"\n",
      "WARNING - root - Added new config entry: \"cfg.dataset.index\"\n",
      "WARNING - root - Added new config entry: \"cfg.dataset.splits\"\n",
      "WARNING - root - Added new config entry: \"cfg.generator.pad\"\n",
      "WARNING - root - Added new config entry: \"cfg.generator.verbose\"\n",
      "WARNING - root - Added new config entry: \"cfg.model.batch_size\"\n",
      "WARNING - root - Added new config entry: \"cfg.model.ckpt_dir\"\n",
      "WARNING - root - Added new config entry: \"cfg.model.debug\"\n",
      "WARNING - root - Added new config entry: \"cfg.model.dec_lr\"\n",
      "WARNING - root - Added new config entry: \"cfg.model.dec_weight\"\n",
      "WARNING - root - Added new config entry: \"cfg.model.dev_step\"\n",
      "WARNING - root - Added new config entry: \"cfg.model.dis_lr\"\n",
      "WARNING - root - Added new config entry: \"cfg.model.display_step\"\n",
      "WARNING - root - Added new config entry: \"cfg.model.enc_lr\"\n",
      "WARNING - root - Added new config entry: \"cfg.model.epochs\"\n",
      "WARNING - root - Added new config entry: \"cfg.model.input_repeats\"\n",
      "WARNING - root - Added new config entry: \"cfg.model.keep_prob\"\n",
      "WARNING - root - Added new config entry: \"cfg.model.kl_div_loss_weight\"\n",
      "WARNING - root - Added new config entry: \"cfg.model.latent_dim\"\n",
      "WARNING - root - Added new config entry: \"cfg.model.launch_tensorboard\"\n",
      "WARNING - root - Added new config entry: \"cfg.model.ll_weight\"\n",
      "WARNING - root - Added new config entry: \"cfg.model.monitor_memory\"\n",
      "WARNING - root - Added new config entry: \"cfg.model.no_gan\"\n",
      "WARNING - root - Added new config entry: \"cfg.model.recon_loss_weight\"\n",
      "WARNING - root - Added new config entry: \"cfg.model.save_step\"\n",
      "WARNING - root - Added new config entry: \"cfg.model.tb_compare\"\n",
      "WARNING - root - Added new config entry: \"cfg.model.tb_dir\"\n",
      "WARNING - root - Added new config entry: \"cfg.model.verbose\"\n",
      "WARNING - root - Added new config entry: \"cfg.model.voxel_prob_threshold\"\n",
      "WARNING - root - Added new config entry: \"cfg.model.voxels_dim\"\n",
      "INFO - voxel_vaegan_notebook - Running command 'run_experiment'\n",
      "INFO - voxel_vaegan_notebook - Started run with ID \"183\"\n"
     ]
    },
    {
     "name": "stdout",
     "output_type": "stream",
     "text": [
      "Logging to /home/jcworkma/jack/3d-form/src/logs/2019-03-17_15-32__root.log\n",
      "Starting train_vaegan main\n",
      "Numpy random seed: 924561764\n",
      "Saved cfg: /home/jcworkma/jack/3d-form/src/../models/voxel_vaegan1/modelnet10/2019-03-17_15-32-59/cfg.json\n",
      "Dataset: <class 'data.modelnet10.ModelNet10'>\n",
      "Using dataset index /home/jcworkma/jack/3d-form/src/../data/processed/modelnet10_toilet_index.csv and pctile None\n",
      "Shuffling dataset\n",
      "dataset n_input=7104\n",
      "Splitting Datasets\n",
      "Num input = 7104\n",
      "Num batches per epoch = 222.00\n",
      "Initializing VoxelVaegan\n",
      "['tensorboard', '--logdir', 'current:/home/jcworkma/jack/3d-form/src/../models/voxel_vaegan1/modelnet10/2019-03-17_15-32-59/tb,best_vaegan:/home/jcworkma/jack/3d-form/src/../models/voxel_vaegan1/modelnet10/2019-03-17_08-40-29/tb']\n",
      "Epoch: 0, Elapsed Time: 0.03\n",
      "Epoch: 0 / 201, Batch: 0 (0 / 32), Elapsed time: 0.03 mins\n",
      "Enc Loss = 93.69, KL Divergence = 0.82, Reconstruction Loss = 0.11, ll_loss = 12072.66, dis_Loss = 7.52, dec_Loss = 81.42, Elapsed time: 0.09 mins\n",
      "Memory Use (GB): 1.3550949096679688\n",
      "Epoch: 0 / 201, Batch: 1 (0 / 64), Elapsed time: 0.10 mins\n",
      "Enc Loss = 103.97, KL Divergence = 0.91, Reconstruction Loss = 0.12, ll_loss = 12796.36, dis_Loss = 7.32, dec_Loss = 82.14, Elapsed time: 0.16 mins\n",
      "Memory Use (GB): 1.4413261413574219\n",
      "Epoch: 0 / 201, Batch: 2 (0 / 96), Elapsed time: 0.16 mins\n",
      "Enc Loss = 96.32, KL Divergence = 0.84, Reconstruction Loss = 0.11, ll_loss = 12489.81, dis_Loss = 7.26, dec_Loss = 81.83, Elapsed time: 0.23 mins\n",
      "Memory Use (GB): 1.6006584167480469\n"
     ]
    }
   ],
   "source": [
    "if last_model_dir == model_dir:\n",
    "    print('dont overwrite!')\n",
    "    assert False\n",
    "else:\n",
    "    last_model_dir = model_dir\n",
    "\n",
    "ex.run(config_updates=cfg)"
   ]
  },
  {
   "cell_type": "code",
   "execution_count": null,
   "metadata": {},
   "outputs": [],
   "source": []
  }
 ],
 "metadata": {
  "kernelspec": {
   "display_name": ".3d-form",
   "language": "python",
   "name": ".3d-form"
  },
  "language_info": {
   "codemirror_mode": {
    "name": "ipython",
    "version": 3
   },
   "file_extension": ".py",
   "mimetype": "text/x-python",
   "name": "python",
   "nbconvert_exporter": "python",
   "pygments_lexer": "ipython3",
   "version": "3.5.2"
  }
 },
 "nbformat": 4,
 "nbformat_minor": 2
}
