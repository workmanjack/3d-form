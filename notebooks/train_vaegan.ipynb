{
 "cells": [
  {
   "cell_type": "markdown",
   "metadata": {},
   "source": [
    "# Voxel VAE-GAN Training\n",
    "\n",
    "This notebook is designed to provide a wholistic vae-gan training experience. You can adjust the model and training parameters through the sacred configuration file, you can view training progress in tensorboard, and you can (wip) create reconstructions with the saved models!\n",
    "\n",
    "References:\n",
    "\n",
    "* https://github.com/anitan0925/vaegan/blob/master/examples/train.py\n",
    "  * Runs 20 epochs on separate VAE and GAN then 200 on VAEGAN\n",
    "* https://github.com/jlindsey15/VAEGAN/blob/master/main.py\n",
    "  * Almost clear code for vaegan paper\n",
    "* https://arxiv.org/pdf/1512.09300.pdf\n",
    "  * vaegan paper\n",
    "* https://github.com/timsainb/Tensorflow-MultiGPU-VAE-GAN\n",
    "  * Best code yet!\n",
    "  "
   ]
  },
  {
   "cell_type": "markdown",
   "metadata": {},
   "source": [
    "## Setup"
   ]
  },
  {
   "cell_type": "code",
   "execution_count": null,
   "metadata": {},
   "outputs": [],
   "source": [
    "import env\n",
    "from train_vaegan import train_vaegan\n",
    "from data.thingi10k import Thingi10k\n",
    "from data.modelnet10 import ModelNet10\n",
    "from data import MODELNET10_INDEX, MODELNET10_TOILET_INDEX, MODELNET10_SOFA_INDEX\n",
    "from models import MODEL_DIR\n",
    "\n",
    "\n",
    "# plot things\n",
    "%matplotlib inline\n",
    "# autoreload modules\n",
    "%load_ext autoreload\n",
    "%autoreload 2"
   ]
  },
  {
   "cell_type": "markdown",
   "metadata": {},
   "source": [
    "## Prepare Sacred Experiment"
   ]
  },
  {
   "cell_type": "code",
   "execution_count": null,
   "metadata": {},
   "outputs": [],
   "source": [
    "from sacred.observers import FileStorageObserver\n",
    "from sacred import Experiment\n",
    "import os\n",
    "\n",
    "ex = Experiment(name='voxel_vaegan_notebook', interactive=True)\n",
    "ex.observers.append(FileStorageObserver.create('experiments_vaegan'))\n",
    "\n",
    "@ex.main\n",
    "def run_experiment(cfg):\n",
    "    train_vaegan(cfg)\n",
    "\n",
    "import datetime\n",
    "last_model_dir = None"
   ]
  },
  {
   "cell_type": "markdown",
   "metadata": {},
   "source": [
    "## Prepare Model Config\n",
    "\n",
    "The model dir is generated with a timestamp. This keeps you from overwriting past results and keeps results separate to avoid confusing tensorboard.\n",
    "\n",
    "But be warned! These model dirs can take up space, so you might need to periodically go back and delete ones you do not care about.\n",
    "\n",
    "Also, if you ever train a model that you would really like to keep, I recommend moving it to a new directory with a special name like \"best_model_ever\".\n",
    "\n",
    "VAE Training Notes:\n",
    "\n",
    "* Higher KL weight results in network focusing less on minimizing reconstruction loss and thus produces lower quality reconstructions\n",
    "* KL weight < .1 sees diminishing gains; use kl == .1\n",
    "* Reconstruction loss is very important\n",
    "* Latent dim of 100 borrowed from reference paper\n",
    "* Latent dim of 1000 results in lower losses but overtrains (also, reconstructions do not look as good)\n",
    "* TODO: experiment with latent dim of 350\n",
    "* Learning rate of 0.0001 borrowed from reference papers; 0.001 trains faster but hits nan loss after a while\n",
    "\n",
    "VAEGAN Training Notes:\n",
    "\n",
    "* Architecture as-is (after adjusting loss functions from GAN loss to VAEGAN loss)"
   ]
  },
  {
   "cell_type": "code",
   "execution_count": null,
   "metadata": {},
   "outputs": [],
   "source": [
    "DATASET_CLASS = 'ModelNet10'\n",
    "#INDEX = MODELNET10_SOFA_TOILET_INDEX\n",
    "#INDEX = MODELNET10_SOFA_INDEX\n",
    "#INDEX = MODELNET10_TOILET_INDEX\n",
    "INDEX = MODELNET10_INDEX\n",
    "\n",
    "def make_cfg():\n",
    "    model_dir = os.path.join(\n",
    "        MODEL_DIR,\n",
    "        'voxel_vaegan1/modelnet10/{}'.format(datetime.datetime.now().strftime('%Y-%m-%d_%H-%M-%S')))\n",
    "    print(model_dir)\n",
    "    os.makedirs(model_dir)\n",
    "\n",
    "    cfg = {\n",
    "        'cfg': {\n",
    "            \"dataset\": {\n",
    "                \"class\": DATASET_CLASS,\n",
    "                \"index\": INDEX,\n",
    "                #\"tag\": \"animal\",\n",
    "                #\"filter_id\": 126660,\n",
    "                #\"pctile\": 1.0,\n",
    "                \"splits\": True,\n",
    "                'categories': ['toilet'],\n",
    "                #\"splits\": {\n",
    "                #    \"train\": .8,\n",
    "                #    \"dev\": .1,\n",
    "                #    \"test\": .1\n",
    "                #}\n",
    "            },\n",
    "            \"generator\": {\n",
    "                \"verbose\": True,\n",
    "                \"pad\": True\n",
    "            }, \n",
    "            \"model\": {\n",
    "                \"ckpt_dir\": model_dir,\n",
    "                \"voxels_dim\": 64,\n",
    "                \"batch_size\": 128,\n",
    "                # Do 0.0001 for 1 epoch, then 0.001 for rest of training\n",
    "                #\"learning_rate\": [(1, 0.0001), (None, 0.001)],\n",
    "                #\"learning_rate\": 0.0001,\n",
    "                \"enc_lr\": 0.0001,  # 0.001 hits nan loss eventually\n",
    "                \"dec_lr\": 0.0001,\n",
    "                \"dis_lr\": 0.0001,\n",
    "                \"epochs\": 100,\n",
    "                \"keep_prob\": 0.8,\n",
    "                \"kl_div_loss_weight\": .1,\n",
    "                \"recon_loss_weight\": 10000,\n",
    "                \"ll_weight\": 1,\n",
    "                \"dec_weight\": 100,\n",
    "                \"latent_dim\": 100,\n",
    "                \"verbose\": True,\n",
    "                \"debug\": True,\n",
    "                \"input_repeats\": 1,\n",
    "                \"display_step\": 1,\n",
    "                #\"example_stl_id\": 126660,\n",
    "                \"voxel_prob_threshold\": 0.065,\n",
    "                \"dev_step\": 5,\n",
    "                \"save_step\": 5,\n",
    "                'launch_tensorboard': True,\n",
    "                'tb_dir': 'tb',\n",
    "                #'tb_compare': [('best_sofa_and_toilet', '/home/jcworkma/jack/3d-form/models/voxel_vaegan1/modelnet10/2019-03-15_17-08-43/tb')],\n",
    "                #'tb_compare': [('best_vaegan', '/home/jcworkma/jack/3d-form/src/../models/voxel_vaegan1/modelnet10/2019-03-17_08-40-29/tb')],\n",
    "                #'tb_compare': [('vaegan_100epochs_toilets', '/home/jcworkma/jack/3d-form/src/../models/voxel_vaegan1/modelnet10/2019-03-18_13-12-53/tb')],\n",
    "                #'tb_compare': [('vaegan_logless_loss', '/home/jcworkma/jack/3d-form/src/../models/voxel_vaegan1/modelnet10/2019-03-22_16-01-54/tb')],\n",
    "                #'tb_compare': [('voxel_vae_toilet_200epochs_1', os.path.join(MODEL_DIR, 'voxel_vae_toilet_200epochs_1', 'tb'))],\n",
    "                #'tb_compare': [('vae_200epochs_p1kl', '/home/jcworkma/jack/3d-form/src/../models/voxel_vaegan1/modelnet10/2019-03-25_11-05-00/tb')],\n",
    "                'tb_compare': [('vae_toilet_nightstand_monitor', '/home/jcworkma/jack/3d-form/src/../models/voxel_vaegan1/modelnet10/2019-03-27_05-27-14/tb')],\n",
    "                'no_gan': True,\n",
    "                'monitor_memory': True,\n",
    "                # these settings control how often the components' optimizers are executed during the training loop\n",
    "                'train_vae_cadence': 1,\n",
    "                'train_gan_cadence': 1,\n",
    "                'dis_noise': 0,\n",
    "                'adaptive_lr': False\n",
    "            }\n",
    "        }\n",
    "    }\n",
    "    \n",
    "    return cfg"
   ]
  },
  {
   "cell_type": "markdown",
   "metadata": {},
   "source": [
    "## Tensorboard Prep\n",
    "\n",
    "We launch tensorboard with a call to the python subprocess module. Sometimes, that process does not die with the rest of the experiment and lingers on as a system process. This becomes a problem when we try to initialize tensorboard for the next experiment because they cannot share the same port!\n",
    "\n",
    "The function below is designed to solve this problem. It uses the linux pgrep utility to search for existing tensorboard processes and kill them. Note that this probably won't work on Windows."
   ]
  },
  {
   "cell_type": "code",
   "execution_count": null,
   "metadata": {},
   "outputs": [],
   "source": [
    "from utils import kill_tensorboard\n",
    "\n",
    "kill_tensorboard()"
   ]
  },
  {
   "cell_type": "markdown",
   "metadata": {},
   "source": [
    "## Training\n",
    "\n",
    "We start with a check that we are not attempting to overwrite the last MODEL_DIR. If you are blocked by the assert, re-execute the cfg code above to generate a new MODEL_DIR. This will allow you to move ahead with training.\n",
    "\n",
    "The sacred experiment will save away a copy of your experiment settings in an experiments directory. This can be accessed later in case we need to retrieve a prime config.\n",
    "\n",
    "If tensorboard is enabled, tune in at localhost:6006 or your_ip:6006\n",
    "   "
   ]
  },
  {
   "cell_type": "code",
   "execution_count": null,
   "metadata": {},
   "outputs": [],
   "source": [
    "cfg = make_cfg()\n",
    "model_dir = cfg.get('cfg').get('model').get('ckpt_dir')\n",
    "kill_tensorboard()"
   ]
  },
  {
   "cell_type": "code",
   "execution_count": null,
   "metadata": {
    "scrolled": true
   },
   "outputs": [],
   "source": [
    "if last_model_dir == model_dir:\n",
    "    print('dont overwrite!')\n",
    "    assert False\n",
    "else:\n",
    "    last_model_dir = model_dir\n",
    "\n",
    "ex.run(config_updates=cfg)"
   ]
  },
  {
   "cell_type": "code",
   "execution_count": null,
   "metadata": {},
   "outputs": [],
   "source": []
  },
  {
   "cell_type": "code",
   "execution_count": null,
   "metadata": {},
   "outputs": [],
   "source": []
  }
 ],
 "metadata": {
  "kernelspec": {
   "display_name": ".3d-form",
   "language": "python",
   "name": ".3d-form"
  },
  "language_info": {
   "codemirror_mode": {
    "name": "ipython",
    "version": 3
   },
   "file_extension": ".py",
   "mimetype": "text/x-python",
   "name": "python",
   "nbconvert_exporter": "python",
   "pygments_lexer": "ipython3",
   "version": "3.5.2"
  }
 },
 "nbformat": 4,
 "nbformat_minor": 2
}
