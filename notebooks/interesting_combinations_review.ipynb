{
 "cells": [
  {
   "cell_type": "markdown",
   "metadata": {},
   "source": [
    "# Interesting Combinations Review\n",
    "\n",
    "The goal of this notebook is to make it easier to review some of the interesting combinations\n",
    "produced by the script make_interesting_combinations.py"
   ]
  },
  {
   "cell_type": "code",
   "execution_count": 1,
   "metadata": {},
   "outputs": [],
   "source": [
    "import env\n",
    "from data.voxels import read_voxel_array, plot_voxels\n",
    "from data.stl import plot_mesh, read_mesh_vectors\n",
    "from random import randint\n",
    "import numpy as np\n",
    "import os\n",
    "\n",
    "\n",
    "# plot things\n",
    "%matplotlib inline\n",
    "# autoreload modules\n",
    "%load_ext autoreload\n",
    "%autoreload 2"
   ]
  },
  {
   "cell_type": "code",
   "execution_count": 2,
   "metadata": {},
   "outputs": [],
   "source": [
    "root_dir = '../../3d-form-output/combinations'"
   ]
  },
  {
   "cell_type": "code",
   "execution_count": 3,
   "metadata": {},
   "outputs": [],
   "source": [
    "def select_random_combo():\n",
    "    dirs = os.listdir(root_dir)\n",
    "    start = randint(0, len(dirs)-1)\n",
    "    start_dirs = [x for x in os.listdir(os.path.join(root_dir, dirs[start])) if '__' not in x]\n",
    "    end = randint(0, len(start_dirs)-1)\n",
    "    first = os.path.basename(dirs[start])\n",
    "    second = os.path.basename(os.path.splitext(start_dirs[end])[0])\n",
    "    if first == second:\n",
    "        print('Oops! Try again!')\n",
    "        assert False\n",
    "    return first, second\n",
    "\n",
    "\n",
    "def _plot_stl(stlfile):\n",
    "    stl_data = read_mesh_vectors(stlfile)\n",
    "    plot_mesh(stl_data, title=os.path.basename(stlfile))\n",
    "    return\n",
    "\n",
    "\n",
    "def _plot_binvox(voxfile):\n",
    "    vox_data = np.load(voxfile)\n",
    "    plot_voxels(vox_data, title=os.path.basename(voxfile))\n",
    "    return\n",
    "\n",
    "\n",
    "def _plot_combo(obj1, obj2):\n",
    "    path = os.path.join(root_dir, obj1)\n",
    "    if os.path.exists(path):\n",
    "        _plot_stl(os.path.join(path, obj1 + '.stl'))\n",
    "        _plot_stl(os.path.join(path, obj2 + '.stl'))\n",
    "        combo_root = os.path.join(path, '{}__{}'.format(obj1, obj2))\n",
    "        _plot_stl(combo_root + '.baseline.stl')\n",
    "        _plot_stl(combo_root + '.stl')\n",
    "        _plot_binvox(combo_root + '.binvox.npy')\n",
    "    return\n",
    "\n",
    "\n",
    "def plot_combo(obj1, obj2):\n",
    "    # try both combos; only one should exist\n",
    "    _plot_combo(obj1, obj2)\n",
    "    _plot_combo(obj2, obj1)\n",
    "    return\n"
   ]
  },
  {
   "cell_type": "code",
   "execution_count": null,
   "metadata": {
    "scrolled": false
   },
   "outputs": [
    {
     "name": "stdout",
     "output_type": "stream",
     "text": [
      "toilet_0341_32_x0_z0\n",
      "chair_0427_32_x0_z0\n"
     ]
    }
   ],
   "source": [
    "#obj1 = 'toilet_0363_32_x0_z0'\n",
    "#obj2 = 'toilet_0358_32_x0_z0'\n",
    "obj1, obj2 = select_random_combo()\n",
    "print(obj1)\n",
    "print(obj2)\n",
    "\n",
    "plot_combo(obj1, obj2)"
   ]
  },
  {
   "cell_type": "code",
   "execution_count": null,
   "metadata": {},
   "outputs": [],
   "source": []
  }
 ],
 "metadata": {
  "kernelspec": {
   "display_name": ".3d-form",
   "language": "python",
   "name": ".3d-form"
  },
  "language_info": {
   "codemirror_mode": {
    "name": "ipython",
    "version": 3
   },
   "file_extension": ".py",
   "mimetype": "text/x-python",
   "name": "python",
   "nbconvert_exporter": "python",
   "pygments_lexer": "ipython3",
   "version": "3.5.2"
  }
 },
 "nbformat": 4,
 "nbformat_minor": 2
}
