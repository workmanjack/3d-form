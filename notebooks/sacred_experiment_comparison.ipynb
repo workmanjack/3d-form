{
 "cells": [
  {
   "cell_type": "markdown",
   "metadata": {},
   "source": [
    "# Sacred Experiment Comparison\n",
    "\n",
    "The goal of this notebook is to provide a mechanism to compare sacred experiments: the cfg, the metrics, and the outcome."
   ]
  },
  {
   "cell_type": "code",
   "execution_count": 40,
   "metadata": {},
   "outputs": [
    {
     "name": "stdout",
     "output_type": "stream",
     "text": [
      "The autoreload extension is already loaded. To reload it, use:\n",
      "  %reload_ext autoreload\n"
     ]
    }
   ],
   "source": [
    "# project imports\n",
    "import env\n",
    "from utils import read_json_data, compare_dicts\n",
    "from models import MODEL_DIR\n",
    "\n",
    "\n",
    "# python & package imports\n",
    "from collections import defaultdict\n",
    "import pandas as pd\n",
    "import json\n",
    "import os\n",
    "\n",
    "\n",
    "# plot things\n",
    "%matplotlib inline\n",
    "# autoreload modules\n",
    "%load_ext autoreload\n",
    "%autoreload 2"
   ]
  },
  {
   "cell_type": "markdown",
   "metadata": {},
   "source": [
    "## Model Leaderboard"
   ]
  },
  {
   "cell_type": "code",
   "execution_count": 54,
   "metadata": {},
   "outputs": [
    {
     "data": {
      "text/html": [
       "<div>\n",
       "<style scoped>\n",
       "    .dataframe tbody tr th:only-of-type {\n",
       "        vertical-align: middle;\n",
       "    }\n",
       "\n",
       "    .dataframe tbody tr th {\n",
       "        vertical-align: top;\n",
       "    }\n",
       "\n",
       "    .dataframe thead th {\n",
       "        text-align: right;\n",
       "    }\n",
       "</style>\n",
       "<table border=\"1\" class=\"dataframe\">\n",
       "  <thead>\n",
       "    <tr style=\"text-align: right;\">\n",
       "      <th></th>\n",
       "      <th>dis_loss</th>\n",
       "      <th>reconstruction_loss</th>\n",
       "      <th>kl_divergence</th>\n",
       "      <th>epoch</th>\n",
       "      <th>dec_loss</th>\n",
       "      <th>enc_loss</th>\n",
       "      <th>elapsed_time</th>\n",
       "    </tr>\n",
       "  </thead>\n",
       "  <tbody>\n",
       "    <tr>\n",
       "      <th>2019-03-12_09-30-02</th>\n",
       "      <td>-999.000000</td>\n",
       "      <td>8.277367</td>\n",
       "      <td>-0.000000</td>\n",
       "      <td>499</td>\n",
       "      <td>-999.000000</td>\n",
       "      <td>0.080834</td>\n",
       "      <td>3.687410</td>\n",
       "    </tr>\n",
       "    <tr>\n",
       "      <th>10k_10epochs1</th>\n",
       "      <td>-999.000000</td>\n",
       "      <td>1243.016235</td>\n",
       "      <td>0.016579</td>\n",
       "      <td>9</td>\n",
       "      <td>-999.000000</td>\n",
       "      <td>0.379853</td>\n",
       "      <td>124.788061</td>\n",
       "    </tr>\n",
       "    <tr>\n",
       "      <th>2019-03-12_05-28-52</th>\n",
       "      <td>-999.000000</td>\n",
       "      <td>1253.438232</td>\n",
       "      <td>0.006444</td>\n",
       "      <td>49</td>\n",
       "      <td>-999.000000</td>\n",
       "      <td>0.382728</td>\n",
       "      <td>4.481774</td>\n",
       "    </tr>\n",
       "    <tr>\n",
       "      <th>animals_100epochs</th>\n",
       "      <td>968.545166</td>\n",
       "      <td>13196.958984</td>\n",
       "      <td>49.095032</td>\n",
       "      <td>99</td>\n",
       "      <td>754.960266</td>\n",
       "      <td>5.555391</td>\n",
       "      <td>34.820713</td>\n",
       "    </tr>\n",
       "    <tr>\n",
       "      <th>2019-03-12_09-44-48</th>\n",
       "      <td>-999.000000</td>\n",
       "      <td>8.127342</td>\n",
       "      <td>0.000017</td>\n",
       "      <td>499</td>\n",
       "      <td>-999.000000</td>\n",
       "      <td>7.936874</td>\n",
       "      <td>3.661042</td>\n",
       "    </tr>\n",
       "    <tr>\n",
       "      <th>2019-03-12_09-38-41</th>\n",
       "      <td>-999.000000</td>\n",
       "      <td>8.545296</td>\n",
       "      <td>-0.000000</td>\n",
       "      <td>499</td>\n",
       "      <td>-999.000000</td>\n",
       "      <td>8.345016</td>\n",
       "      <td>3.693110</td>\n",
       "    </tr>\n",
       "    <tr>\n",
       "      <th>best</th>\n",
       "      <td>-999.000000</td>\n",
       "      <td>808.499634</td>\n",
       "      <td>488.078369</td>\n",
       "      <td>9</td>\n",
       "      <td>-999.000000</td>\n",
       "      <td>261.985138</td>\n",
       "      <td>43.024081</td>\n",
       "    </tr>\n",
       "    <tr>\n",
       "      <th>2019-03-12_10-22-19</th>\n",
       "      <td>-999.000000</td>\n",
       "      <td>30.710892</td>\n",
       "      <td>0.000220</td>\n",
       "      <td>49</td>\n",
       "      <td>-999.000000</td>\n",
       "      <td>299.911255</td>\n",
       "      <td>34.678700</td>\n",
       "    </tr>\n",
       "  </tbody>\n",
       "</table>\n",
       "</div>"
      ],
      "text/plain": [
       "                       dis_loss  reconstruction_loss  kl_divergence  epoch  \\\n",
       "2019-03-12_09-30-02 -999.000000             8.277367      -0.000000    499   \n",
       "10k_10epochs1       -999.000000          1243.016235       0.016579      9   \n",
       "2019-03-12_05-28-52 -999.000000          1253.438232       0.006444     49   \n",
       "animals_100epochs    968.545166         13196.958984      49.095032     99   \n",
       "2019-03-12_09-44-48 -999.000000             8.127342       0.000017    499   \n",
       "2019-03-12_09-38-41 -999.000000             8.545296      -0.000000    499   \n",
       "best                -999.000000           808.499634     488.078369      9   \n",
       "2019-03-12_10-22-19 -999.000000            30.710892       0.000220     49   \n",
       "\n",
       "                       dec_loss    enc_loss  elapsed_time  \n",
       "2019-03-12_09-30-02 -999.000000    0.080834      3.687410  \n",
       "10k_10epochs1       -999.000000    0.379853    124.788061  \n",
       "2019-03-12_05-28-52 -999.000000    0.382728      4.481774  \n",
       "animals_100epochs    754.960266    5.555391     34.820713  \n",
       "2019-03-12_09-44-48 -999.000000    7.936874      3.661042  \n",
       "2019-03-12_09-38-41 -999.000000    8.345016      3.693110  \n",
       "best                -999.000000  261.985138     43.024081  \n",
       "2019-03-12_10-22-19 -999.000000  299.911255     34.678700  "
      ]
     },
     "execution_count": 54,
     "metadata": {},
     "output_type": "execute_result"
    }
   ],
   "source": [
    "scores = dict()\n",
    "model_dir = os.path.join(MODEL_DIR, 'voxel_vaegan1', 'modelnet10')\n",
    "for m in os.listdir(model_dir):\n",
    "    name = m\n",
    "    metrics_json = os.path.join(model_dir, m, 'metrics.json')\n",
    "    #print(metrics_json)\n",
    "    #if os.path.exists(metrics_json):\n",
    "    #    df = pd.read_json(metrics_json, orient='values')\n",
    "    #    break\n",
    "    metrics_dict = read_json_data(metrics_json)\n",
    "    if metrics_dict:\n",
    "        # assuming only keys are epoch\\d+\n",
    "        keys = [int(key.replace('epoch', '')) for key in metrics_dict.keys()]\n",
    "        last_epoch = sorted(keys)[-1]\n",
    "        last_key = 'epoch{}'.format(last_epoch)\n",
    "        scores[name] = metrics_dict[last_key]\n",
    "        scores[name]['epoch'] = last_epoch\n",
    "\n",
    "df = pd.DataFrame.from_dict(scores, orient='index').sort_values('enc_loss')\n",
    "df"
   ]
  },
  {
   "cell_type": "code",
   "execution_count": 39,
   "metadata": {},
   "outputs": [
    {
     "name": "stdout",
     "output_type": "stream",
     "text": [
      "{'2019-03-10_14-32-41': {'dis_loss': 393.0194396972656, 'reconstruction_loss': 1343.6868896484375, 'kl_divergence': 0.010936439037322998, 'dec_loss': 267.1690673828125, 'enc_loss': 0.4103938043117523, 'elapsed_time': 7.001890126864115}, '2019-03-12_09-44-48': {'dis_loss': -999.0, 'reconstruction_loss': 8.127342224121094, 'kl_divergence': 1.6748905181884766e-05, 'dec_loss': -999.0, 'enc_loss': 7.9368743896484375, 'elapsed_time': 3.661041820049286}, '2019-03-12_05-28-52': {'dis_loss': -999.0, 'reconstruction_loss': 1253.438232421875, 'kl_divergence': 0.006444036960601807, 'dec_loss': -999.0, 'enc_loss': 0.38272830843925476, 'elapsed_time': 4.481773793697357}, 'animals_100epochs': {'dis_loss': 968.545166015625, 'reconstruction_loss': 13196.958984375, 'kl_divergence': 49.09503173828125, 'dec_loss': 754.9602661132812, 'enc_loss': 5.555391311645508, 'elapsed_time': 34.820713206132254}, '2019-03-12_09-38-41': {'dis_loss': -999.0, 'reconstruction_loss': 8.545295715332031, 'kl_divergence': -0.0, 'dec_loss': -999.0, 'enc_loss': 8.345016479492188, 'elapsed_time': 3.6931097785631817}, 'best': {'dis_loss': -999.0, 'reconstruction_loss': 808.4996337890625, 'kl_divergence': 488.078369140625, 'dec_loss': -999.0, 'enc_loss': 261.9851379394531, 'elapsed_time': 43.02408063411713}, '2019-03-12_10-22-19': {'dis_loss': -999.0, 'reconstruction_loss': 30.710891723632812, 'kl_divergence': 0.00021958351135253906, 'dec_loss': -999.0, 'enc_loss': 299.9112548828125, 'elapsed_time': 34.67870030005773}, '2019-03-10_14-01-10': {'dis_loss': 224.6343231201172, 'reconstruction_loss': 3891.3359375, 'kl_divergence': 0.4469737708568573, 'dec_loss': 163.9287872314453, 'enc_loss': 0.9374083280563354, 'elapsed_time': 2.3390159964561463}, '2019-03-10_14-14-29': {'dis_loss': 259.02972412109375, 'reconstruction_loss': 2063.1728515625, 'kl_divergence': 0.056076616048812866, 'dec_loss': 181.07728576660156, 'enc_loss': 0.9620935916900635, 'elapsed_time': 2.44421337445577}, '10k_10epochs1': {'dis_loss': -999.0, 'reconstruction_loss': 1243.0162353515625, 'kl_divergence': 0.016579389572143555, 'dec_loss': -999.0, 'enc_loss': 0.3798533082008362, 'elapsed_time': 124.78806109031042}, '2019-03-12_09-30-02': {'dis_loss': -999.0, 'reconstruction_loss': 8.277366638183594, 'kl_divergence': -0.0, 'dec_loss': -999.0, 'enc_loss': 0.08083366602659225, 'elapsed_time': 3.687409933408101}}\n",
      "dis_loss:\t\t('2019-03-12_09-44-48', -999.0)\n",
      "reconstruction_loss:\t\t('2019-03-12_09-44-48', 8.127342224121094)\n",
      "kl_divergence:\t\t('2019-03-12_09-38-41', -0.0)\n",
      "dec_loss:\t\t('2019-03-12_09-44-48', -999.0)\n",
      "enc_loss:\t\t('2019-03-12_09-30-02', 0.08083366602659225)\n",
      "elapsed_time:\t\t('2019-03-10_14-01-10', 2.3390159964561463)\n"
     ]
    }
   ],
   "source": [
    "scores = dict()\n",
    "model_dir = os.path.join(MODEL_DIR, 'voxel_vaegan1')\n",
    "for m in os.listdir(model_dir):\n",
    "    name = m\n",
    "    metrics_json = os.path.join(model_dir, m, 'metrics.json')\n",
    "    df = pd.read_json(metrics_json)\n",
    "    break\n",
    "    metrics_dict = read_json_data(metrics_json)\n",
    "    if metrics_dict:\n",
    "        # assuming only keys are epoch\\d+\n",
    "        keys = [int(key.replace('epoch', '')) for key in metrics_dict.keys()]\n",
    "        last = 'epoch{}'.format(sorted(keys)[-1])\n",
    "        scores[name] = metrics_dict[last]\n",
    "\n",
    "        \n",
    "        \n",
    "bests = defaultdict(lambda: defaultdict(tuple))\n",
    "for name, values in scores.items():\n",
    "    for k, v in values.items():\n",
    "        curr = ('unknown', 999999) if len(bests[k]) == 0 else bests[k]\n",
    "        bests[k] = (name, v) if v < curr[1] else curr\n",
    "\n",
    "for k, v in bests.items():\n",
    "    print('{}:\\t\\t{}'.format(k, v))"
   ]
  },
  {
   "cell_type": "markdown",
   "metadata": {},
   "source": [
    "## Config Comparison"
   ]
  },
  {
   "cell_type": "code",
   "execution_count": 5,
   "metadata": {},
   "outputs": [],
   "source": [
    "# provide the full path to root dir of the experiment output (the parent dir of the ckpts)\n",
    "exp1 = os.path.join(MODEL_DIR, 'voxel_vaegan1/best')\n",
    "exp2 = os.path.join(MODEL_DIR, '/home/jcworkma/jack/3d-form/models/voxel_vaegan1/modelnet10/2019-03-14_15-18-38')"
   ]
  },
  {
   "cell_type": "code",
   "execution_count": 13,
   "metadata": {},
   "outputs": [
    {
     "name": "stdout",
     "output_type": "stream",
     "text": [
      "/home/jcworkma/jack/3d-form/models/voxel_vaegan1/modelnet10/2019-03-14_15-18-38/cfg.json does not exist\n"
     ]
    },
    {
     "ename": "AssertionError",
     "evalue": "",
     "output_type": "error",
     "traceback": [
      "\u001b[0;31m---------------------------------------------------------------------------\u001b[0m",
      "\u001b[0;31mAssertionError\u001b[0m                            Traceback (most recent call last)",
      "\u001b[0;32m<ipython-input-13-67071dbabffb>\u001b[0m in \u001b[0;36m<module>\u001b[0;34m\u001b[0m\n\u001b[1;32m      2\u001b[0m \u001b[0mcfg2\u001b[0m \u001b[0;34m=\u001b[0m \u001b[0mread_json_data\u001b[0m\u001b[0;34m(\u001b[0m\u001b[0mos\u001b[0m\u001b[0;34m.\u001b[0m\u001b[0mpath\u001b[0m\u001b[0;34m.\u001b[0m\u001b[0mjoin\u001b[0m\u001b[0;34m(\u001b[0m\u001b[0mexp2\u001b[0m\u001b[0;34m,\u001b[0m \u001b[0;34m'cfg.json'\u001b[0m\u001b[0;34m)\u001b[0m\u001b[0;34m,\u001b[0m \u001b[0mverbose\u001b[0m\u001b[0;34m=\u001b[0m\u001b[0;32mTrue\u001b[0m\u001b[0;34m)\u001b[0m\u001b[0;34m\u001b[0m\u001b[0m\n\u001b[1;32m      3\u001b[0m \u001b[0;32massert\u001b[0m \u001b[0misinstance\u001b[0m\u001b[0;34m(\u001b[0m\u001b[0mcfg1\u001b[0m\u001b[0;34m,\u001b[0m \u001b[0mdict\u001b[0m\u001b[0;34m)\u001b[0m\u001b[0;34m\u001b[0m\u001b[0m\n\u001b[0;32m----> 4\u001b[0;31m \u001b[0;32massert\u001b[0m \u001b[0misinstance\u001b[0m\u001b[0;34m(\u001b[0m\u001b[0mcfg2\u001b[0m\u001b[0;34m,\u001b[0m \u001b[0mdict\u001b[0m\u001b[0;34m)\u001b[0m\u001b[0;34m\u001b[0m\u001b[0m\n\u001b[0m\u001b[1;32m      5\u001b[0m \u001b[0mcompare_dicts\u001b[0m\u001b[0;34m(\u001b[0m\u001b[0mcfg1\u001b[0m\u001b[0;34m,\u001b[0m \u001b[0mcfg2\u001b[0m\u001b[0;34m)\u001b[0m\u001b[0;34m\u001b[0m\u001b[0m\n",
      "\u001b[0;31mAssertionError\u001b[0m: "
     ]
    }
   ],
   "source": [
    "cfg1 = read_json_data(os.path.join(exp1, 'cfg.json'), verbose=True)\n",
    "cfg2 = read_json_data(os.path.join(exp2, 'cfg.json'), verbose=True)\n",
    "assert isinstance(cfg1, dict)\n",
    "assert isinstance(cfg2, dict)\n",
    "compare_dicts(cfg1, cfg2)\n"
   ]
  },
  {
   "cell_type": "markdown",
   "metadata": {},
   "source": [
    "## Just in case you need to retrieve a ckpt_dir from an old sacred config.json save"
   ]
  },
  {
   "cell_type": "code",
   "execution_count": 10,
   "metadata": {},
   "outputs": [
    {
     "name": "stdout",
     "output_type": "stream",
     "text": [
      "found it!\n",
      "/home/jcworkma/jack/3d-form/notebooks/experiments_vaegan/99/config.json\n",
      "voxel_vaegan1/2019-03-12_16-36-25\n"
     ]
    }
   ],
   "source": [
    "root = '/home/jcworkma/jack/3d-form/notebooks/experiments_vaegan'\n",
    "for exp_dir in os.listdir(root):\n",
    "    if exp_dir == '_sources':\n",
    "        continue\n",
    "    #print('-------')\n",
    "    #print(exp_dir)\n",
    "    cfg_path = os.path.join(root, exp_dir + '/config.json')\n",
    "    with open(cfg_path, 'r') as json_file:\n",
    "        cfg = json.load(json_file)\n",
    "    ckpt_dir = cfg.get('cfg', 'banana').get('model', 'apple').get('ckpt_dir', 'orange')\n",
    "    #print(ckpt_dir)\n",
    "    if '2019-03-12_16-36-25' in ckpt_dir:\n",
    "        print('found it!')\n",
    "        print(cfg_path)\n",
    "        print(ckpt_dir)\n",
    "        break"
   ]
  },
  {
   "cell_type": "code",
   "execution_count": null,
   "metadata": {},
   "outputs": [],
   "source": []
  }
 ],
 "metadata": {
  "kernelspec": {
   "display_name": ".3d-form",
   "language": "python",
   "name": ".3d-form"
  },
  "language_info": {
   "codemirror_mode": {
    "name": "ipython",
    "version": 3
   },
   "file_extension": ".py",
   "mimetype": "text/x-python",
   "name": "python",
   "nbconvert_exporter": "python",
   "pygments_lexer": "ipython3",
   "version": "3.5.2"
  }
 },
 "nbformat": 4,
 "nbformat_minor": 2
}
