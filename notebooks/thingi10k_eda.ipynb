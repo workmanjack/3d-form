{
 "cells": [
  {
   "cell_type": "markdown",
   "metadata": {},
   "source": [
    "# Thingi10k EDA\n",
    "\n",
    "In the thingi10k_metadata_retrieval notebook, we built an Thingi10k index. This index contains multiple points of metadata about each stl object as well as the filename of the stl object itself.\n",
    "\n",
    "In this notebook, our goal is to learn more about the dataset. Specifically, we have these questions:\n",
    "\n",
    "1. How big/small are the stl objects?\n",
    "2. Will we need to normalize the coordinates?\n",
    "3. What are the available tags?\n"
   ]
  },
  {
   "cell_type": "code",
   "execution_count": 19,
   "metadata": {},
   "outputs": [
    {
     "name": "stdout",
     "output_type": "stream",
     "text": [
      "Populating the interactive namespace from numpy and matplotlib\n"
     ]
    }
   ],
   "source": [
    "import pandas as pd\n",
    "# ask matplotlib to show figures in notebook\n",
    "%pylab inline"
   ]
  },
  {
   "cell_type": "code",
   "execution_count": 6,
   "metadata": {},
   "outputs": [],
   "source": [
    "import env\n",
    "from data import THINGI10K_INDEX\n",
    "df = pd.read_csv(THINGI10K_INDEX)"
   ]
  },
  {
   "cell_type": "markdown",
   "metadata": {},
   "source": [
    "## Num Vertices"
   ]
  },
  {
   "cell_type": "code",
   "execution_count": 17,
   "metadata": {},
   "outputs": [
    {
     "data": {
      "text/plain": [
       "count       9949.000000\n",
       "mean       20688.300834\n",
       "std        71306.385427\n",
       "min            4.000000\n",
       "25%          534.000000\n",
       "50%         2164.000000\n",
       "75%        10610.000000\n",
       "max      1577057.000000\n",
       "Name: num_vertices, dtype: object"
      ]
     },
     "execution_count": 17,
     "metadata": {},
     "output_type": "execute_result"
    }
   ],
   "source": [
    "# https://stackoverflow.com/questions/40347689/dataframe-describe-suppress-scientific-notation\n",
    "df.num_vertices.describe().apply(lambda x: format(x, 'f'))"
   ]
  },
  {
   "cell_type": "code",
   "execution_count": 21,
   "metadata": {},
   "outputs": [
    {
     "data": {
      "image/png": "[encoded data removed]",
      "text/plain": [
       "<Figure size 432x288 with 1 Axes>"
      ]
     },
     "metadata": {
      "needs_background": "light"
     },
     "output_type": "display_data"
    }
   ],
   "source": [
    "_ = df.hist(column='num_vertices')"
   ]
  },
  {
   "cell_type": "code",
   "execution_count": 29,
   "metadata": {},
   "outputs": [
    {
     "data": {
      "image/png": "[encoded data removed]",
      "text/plain": [
       "<Figure size 432x288 with 1 Axes>"
      ]
     },
     "metadata": {
      "needs_background": "light"
     },
     "output_type": "display_data"
    }
   ],
   "source": [
    "# what if we only look at the top 90%?\n",
    "\n",
    "# https://stackoverflow.com/questions/18580461/eliminating-all-data-over-a-given-percentile\n",
    "_ = df[df.num_vertices < df.num_vertices.quantile(.90)].hist(column='num_vertices')"
   ]
  },
  {
   "cell_type": "code",
   "execution_count": 30,
   "metadata": {},
   "outputs": [
    {
     "data": {
      "image/png": "[encoded data removed]",
      "text/plain": [
       "<Figure size 432x288 with 1 Axes>"
      ]
     },
     "metadata": {
      "needs_background": "light"
     },
     "output_type": "display_data"
    }
   ],
   "source": [
    "# what if we only look at the top 80%?\n",
    "\n",
    "# https://stackoverflow.com/questions/18580461/eliminating-all-data-over-a-given-percentile\n",
    "_ = df[df.num_vertices < df.num_vertices.quantile(.80)].hist(column='num_vertices')"
   ]
  },
  {
   "cell_type": "markdown",
   "metadata": {},
   "source": [
    "### Takeaways\n",
    "\n",
    "* Count < 1000: the Thingi10k dataset comes with a handful of .ply and .obj files; we ignore those.\n",
    "* Histogram with long right-tail: it might be a good idea to ignore the largest files as they are not as representative and to keep input data low for the network\n",
    "    * 80% looks like a good option; it cuts out 10% of the data points compared to 90% but cuts the max vertex count in half"
   ]
  },
  {
   "cell_type": "markdown",
   "metadata": {},
   "source": [
    "## Size of STL Input\n",
    "\n",
    "We will be inputting the stl vertices into the network and want to know how much memory we will potentially be using to calculate a good batch size."
   ]
  },
  {
   "cell_type": "code",
   "execution_count": 15,
   "metadata": {},
   "outputs": [
    {
     "data": {
      "text/plain": [
       "count       9949.000000\n",
       "mean       62064.902503\n",
       "std       213919.156282\n",
       "min           12.000000\n",
       "25%         1602.000000\n",
       "50%         6492.000000\n",
       "75%        31830.000000\n",
       "max      4731171.000000\n",
       "Name: stl_data_points, dtype: object"
      ]
     },
     "execution_count": 15,
     "metadata": {},
     "output_type": "execute_result"
    }
   ],
   "source": [
    "# if a float is 4 bytes and each vertex is 3 floats (x,y,z coordinates)\n",
    "# note that the actual stl file has extra info like normal vectors, name, etc.\n",
    "# our network won't care about that info, so we are focused on only vertices here.\n",
    "df['stl_data_points'] = df.num_vertices * 3\n",
    "df.stl_data_points.describe().apply(lambda x: format(x, 'f'))"
   ]
  },
  {
   "cell_type": "code",
   "execution_count": 16,
   "metadata": {},
   "outputs": [
    {
     "data": {
      "text/plain": [
       "count        9949.000000\n",
       "mean       248259.610011\n",
       "std        855676.625126\n",
       "min            48.000000\n",
       "25%          6408.000000\n",
       "50%         25968.000000\n",
       "75%        127320.000000\n",
       "max      18924684.000000\n",
       "Name: stl_size_bytes, dtype: object"
      ]
     },
     "execution_count": 16,
     "metadata": {},
     "output_type": "execute_result"
    }
   ],
   "source": [
    "df['stl_size_bytes'] = df.stl_data_points * 4\n",
    "df.stl_size_bytes.describe().apply(lambda x: format(x, 'f'))"
   ]
  },
  {
   "cell_type": "code",
   "execution_count": 13,
   "metadata": {},
   "outputs": [
    {
     "data": {
      "text/plain": [
       "count    9949.000000\n",
       "mean        0.000231\n",
       "std         0.000797\n",
       "min         0.000000\n",
       "25%         0.000006\n",
       "50%         0.000024\n",
       "75%         0.000119\n",
       "max         0.017625\n",
       "Name: stl_size_gb, dtype: object"
      ]
     },
     "execution_count": 13,
     "metadata": {},
     "output_type": "execute_result"
    }
   ],
   "source": [
    "# gb\n",
    "df['stl_size_gb'] = df.stl_size_bytes / 1024 / 1024 / 1024\n",
    "df.stl_size_gb.describe().apply(lambda x: format(x, 'f'))"
   ]
  },
  {
   "cell_type": "code",
   "execution_count": 31,
   "metadata": {},
   "outputs": [
    {
     "data": {
      "image/png": "[encoded data removed]",
      "text/plain": [
       "<Figure size 432x288 with 1 Axes>"
      ]
     },
     "metadata": {
      "needs_background": "light"
     },
     "output_type": "display_data"
    }
   ],
   "source": [
    "_ = df.hist(column='stl_size_bytes')"
   ]
  },
  {
   "cell_type": "code",
   "execution_count": 32,
   "metadata": {},
   "outputs": [
    {
     "data": {
      "image/png": "[encoded data removed]",
      "text/plain": [
       "<Figure size 432x288 with 1 Axes>"
      ]
     },
     "metadata": {
      "needs_background": "light"
     },
     "output_type": "display_data"
    }
   ],
   "source": [
    "_ = df[df.num_vertices < df.num_vertices.quantile(.80)].hist(column='stl_size_bytes')"
   ]
  },
  {
   "cell_type": "markdown",
   "metadata": {},
   "source": [
    "### Takeaways\n",
    "\n",
    "* As expected, the memory usage of the input is linearly related to the number of vertices (the histograms have the same shape)"
   ]
  },
  {
   "cell_type": "markdown",
   "metadata": {},
   "source": [
    "### Batch Size Memory Usage\n",
    "\n",
    "Let's set an arbritary goal of 1GB for memory usage for our batches. What should the batch size be to reach that goal?"
   ]
  },
  {
   "cell_type": "code",
   "execution_count": 37,
   "metadata": {},
   "outputs": [
    {
     "data": {
      "text/plain": [
       "4325.076575896419"
      ]
     },
     "execution_count": 37,
     "metadata": {},
     "output_type": "execute_result"
    }
   ],
   "source": [
    "ARBRITARY_MEM_GOAL = 1\n",
    "avg_gb = df.stl_size_gb.mean()\n",
    "batch_size = ARBRITARY_MEM_GOAL / avg_gb\n",
    "batch_size"
   ]
  },
  {
   "cell_type": "markdown",
   "metadata": {},
   "source": [
    "With a 1GB goal, our batch size can be fairly large. Even without counting for padding, it is safe to assume that a batch size of < 1000 will be safe. "
   ]
  },
  {
   "cell_type": "markdown",
   "metadata": {},
   "source": [
    "## STL Coordinates\n",
    "\n",
    "Are coordinates all positive?\n",
    "\n",
    "From [Wikipedia](https://en.wikipedia.org/wiki/STL_(file_format)), \"In the original specification, all STL coordinates were required to be positive numbers, but this restriction is no longer enforced and negative coordinates are commonly encountered in STL files today.\"\n",
    "\n",
    "This means that we will likely need to normalize our coordinates. What's the best way to do so?"
   ]
  },
  {
   "cell_type": "code",
   "execution_count": 39,
   "metadata": {},
   "outputs": [],
   "source": [
    "import env\n",
    "from data.thingi10k import thingi10k_batch_generator, thingi10k_df, thingi10k_max_length\n",
    "from data import THINGI10K_INDEX_100\n",
    "df = thingi10k_df(THINGI10K_INDEX_100, pctile=.80)\n",
    "n_samples = len(df)"
   ]
  },
  {
   "cell_type": "code",
   "execution_count": 43,
   "metadata": {},
   "outputs": [
    {
     "name": "stdout",
     "output_type": "stream",
     "text": [
      "****\n",
      "10\n",
      "2430\n",
      "142.8358\n",
      "-27.47818\n",
      "****\n",
      "10\n",
      "4752\n",
      "1.21691\n",
      "-4.1723297e-07\n",
      "****\n",
      "10\n",
      "39204\n",
      "42.541275\n",
      "-29.113377\n",
      "****\n",
      "10\n",
      "95760\n",
      "50.390003\n",
      "0.0\n",
      "****\n",
      "10\n",
      "86616\n",
      "29.5\n",
      "-29.5\n",
      "****\n",
      "10\n",
      "161460\n",
      "5.829913\n",
      "-5.152635\n",
      "****\n",
      "10\n",
      "66834\n",
      "59.49368\n",
      "-32.09416\n",
      "****\n",
      "9\n",
      "17856\n",
      "55.45684\n",
      "-23.35605\n"
     ]
    }
   ],
   "source": [
    "for batch in thingi10k_batch_generator(df, 10, flat=True):\n",
    "    print('****')\n",
    "    print(len(batch))\n",
    "    print(len(batch[0]))\n",
    "    print(batch[0].max())\n",
    "    print(batch[0].min())"
   ]
  },
  {
   "cell_type": "markdown",
   "metadata": {},
   "source": [
    "## Thingi10k Tags"
   ]
  },
  {
   "cell_type": "code",
   "execution_count": 7,
   "metadata": {},
   "outputs": [],
   "source": [
    "import env\n",
    "from data.thingi10k import Thingi10k\n",
    "import pandas as pd\n",
    "\n",
    "thingi = Thingi10k.init10k()"
   ]
  },
  {
   "cell_type": "code",
   "execution_count": 8,
   "metadata": {},
   "outputs": [
    {
     "data": {
      "text/plain": [
       "0                          ['rover', 'spider', 'walking']\n",
       "1       ['articulado', 'ball_jointed', 'cool', 'doll',...\n",
       "2       ['christmas', 'gift', 'holiday', 'makerbot', '...\n",
       "3       ['laser', 'laser_chess', '3D', 'board_game', '...\n",
       "4       ['flute', 'music', 'recorder', 'empire_state_b...\n",
       "5                                                     NaN\n",
       "6        ['clock', 'desk_clock', 'divers_watch', 'watch']\n",
       "7       ['bird', 'birdhouse', 'BirdhouseChallenge', 'B...\n",
       "8                                         ['interesting']\n",
       "9       ['optimus_prime', 'tardis', 'toy', 'transformer']\n",
       "10      ['architecture', 'budmen', 'cloud', 'cloud_fac...\n",
       "11                                ['animal', 'sculpture']\n",
       "12      ['board', 'chess', 'dragon', 'fantasy', 'fire'...\n",
       "13      ['Action_Figure', 'anime', 'ModioChallenge', '...\n",
       "14                        ['hex', 'screw', 'star', 'toy']\n",
       "15      ['4-8-8-4', 'Locomotive', 'railroad', 'scale_m...\n",
       "16                 ['balloon', 'whistle_goes_wooo_WOOOO']\n",
       "17                           ['gyroscope', 'walking_toy']\n",
       "18                        ['3D', 'prototype', 'typeface']\n",
       "19      ['clock', 'escapement', 'Gear', 'handle', 'mec...\n",
       "20      ['cryptex', 'LulzBot', 'puzzel', 'puzzle', 'toy']\n",
       "21      ['architecture', 'Cathedral', 'design_week', '...\n",
       "22      ['atom', 'bohr', 'chemistry', 'customizer', 'e...\n",
       "23      ['beach', 'bucket', 'grovel', 'holiday', 'kids...\n",
       "24                          ['futur', 'makerbot', 'moto']\n",
       "25            ['3D', 'CNC_Machine', 'featured', 'reprap']\n",
       "26      ['android', 'arduino', 'autonomous', 'battery'...\n",
       "27      ['mold', 'molds', 'snow', 'snowman', 'snowmen'...\n",
       "28      ['Castle', 'construction_kit', 'LEGO', 'opensc...\n",
       "29      ['box', 'container', 'gift', 'Heart', 'puzzle'...\n",
       "                              ...                        \n",
       "9916    ['2Color', 'amphibian', 'dualstrusion', 'frog'...\n",
       "9917    ['aircraft', 'air_powered', 'balloon', 'design...\n",
       "9918    ['arduino', 'customizable', 'customizer', 'lam...\n",
       "9919    ['advent_calendar', 'christmas', 'collection',...\n",
       "9920    ['Articulated', 'ball_joint', 'BJD', 'doll', '...\n",
       "9921                            ['openscad', 'Two_Color']\n",
       "9922    ['burger', 'cooking', 'food', 'kitchen', 'mould']\n",
       "9923                                   ['flower', 'vase']\n",
       "9924    ['art', 'gears', 'kinetic', 'sketchup', 'sprin...\n",
       "9925    ['atom', 'bohr', 'chemistry', 'customizer', 'e...\n",
       "9926    ['antique', 'autumn', 'bird', 'fall', 'leaf', ...\n",
       "9927              ['3dhubs', 'desk', 'math', 'polyhedra']\n",
       "9928                         ['Champagne_Glass', 'glass']\n",
       "9929    ['Castle', 'construction_kit', 'LEGO', 'opensc...\n",
       "9930    ['Castle', 'construction_kit', 'LEGO', 'opensc...\n",
       "9931    ['3D', 'art', 'Deadmau5', 'jewelry', 'laser', ...\n",
       "9932    ['box', 'key', 'Lock', 'pick', 'safe', 'treasu...\n",
       "9933    ['2Color', 'blatt', 'dualstrusion', 'meat', 's...\n",
       "9934      ['LEGO', 'reindeer', 'santa', 'sleigh', 'xmas']\n",
       "9935    ['3D', 'applications', 'automata', 'automaton'...\n",
       "9936                         ['robot', 'tank', 'Tracked']\n",
       "9937    ['1to24scale', 'dollhouse', 'furniture', 'tosc...\n",
       "9938    ['complex', 'math', 'pva', 'support', 'dualstr...\n",
       "9939    ['barspin', 'Daniel_Noree', 'openrc', 'radioco...\n",
       "9940    ['3d_printer', 'car', 'star_wars', 'X_Wing', '...\n",
       "9941         ['iPad', 'Ipad_mini', 'iPad_Stand', 'stand']\n",
       "9942    ['3D', '3dprint', 'art', 'cellular', 'makerbot...\n",
       "9943    ['baking', 'cookies', 'cookie_cutter', 'custom...\n",
       "9944                     ['Action_Figure', 'articulable']\n",
       "9945                   ['AMAO', 'bear', 'bear__Low_poly']\n",
       "Name: tags, Length: 9946, dtype: object"
      ]
     },
     "execution_count": 8,
     "metadata": {},
     "output_type": "execute_result"
    }
   ],
   "source": [
    "thingi.df.tags"
   ]
  },
  {
   "cell_type": "code",
   "execution_count": 11,
   "metadata": {},
   "outputs": [
    {
     "data": {
      "text/html": [
       "<div>\n",
       "<style scoped>\n",
       "    .dataframe tbody tr th:only-of-type {\n",
       "        vertical-align: middle;\n",
       "    }\n",
       "\n",
       "    .dataframe tbody tr th {\n",
       "        vertical-align: top;\n",
       "    }\n",
       "\n",
       "    .dataframe thead th {\n",
       "        text-align: right;\n",
       "    }\n",
       "</style>\n",
       "<table border=\"1\" class=\"dataframe\">\n",
       "  <thead>\n",
       "    <tr style=\"text-align: right;\">\n",
       "      <th></th>\n",
       "      <th>0</th>\n",
       "    </tr>\n",
       "  </thead>\n",
       "  <tbody>\n",
       "    <tr>\n",
       "      <th>0</th>\n",
       "      <td>['rover', 'spider', 'walking']</td>\n",
       "    </tr>\n",
       "    <tr>\n",
       "      <th>1</th>\n",
       "      <td>['articulado', 'ball_jointed', 'cool', 'doll',...</td>\n",
       "    </tr>\n",
       "    <tr>\n",
       "      <th>2</th>\n",
       "      <td>['christmas', 'gift', 'holiday', 'makerbot', '...</td>\n",
       "    </tr>\n",
       "    <tr>\n",
       "      <th>3</th>\n",
       "      <td>['laser', 'laser_chess', '3D', 'board_game', '...</td>\n",
       "    </tr>\n",
       "    <tr>\n",
       "      <th>4</th>\n",
       "      <td>['flute', 'music', 'recorder', 'empire_state_b...</td>\n",
       "    </tr>\n",
       "    <tr>\n",
       "      <th>5</th>\n",
       "      <td>NaN</td>\n",
       "    </tr>\n",
       "    <tr>\n",
       "      <th>6</th>\n",
       "      <td>['clock', 'desk_clock', 'divers_watch', 'watch']</td>\n",
       "    </tr>\n",
       "    <tr>\n",
       "      <th>7</th>\n",
       "      <td>['bird', 'birdhouse', 'BirdhouseChallenge', 'B...</td>\n",
       "    </tr>\n",
       "    <tr>\n",
       "      <th>8</th>\n",
       "      <td>['interesting']</td>\n",
       "    </tr>\n",
       "    <tr>\n",
       "      <th>9</th>\n",
       "      <td>['optimus_prime', 'tardis', 'toy', 'transformer']</td>\n",
       "    </tr>\n",
       "    <tr>\n",
       "      <th>10</th>\n",
       "      <td>['architecture', 'budmen', 'cloud', 'cloud_fac...</td>\n",
       "    </tr>\n",
       "    <tr>\n",
       "      <th>11</th>\n",
       "      <td>['animal', 'sculpture']</td>\n",
       "    </tr>\n",
       "    <tr>\n",
       "      <th>12</th>\n",
       "      <td>['board', 'chess', 'dragon', 'fantasy', 'fire'...</td>\n",
       "    </tr>\n",
       "    <tr>\n",
       "      <th>13</th>\n",
       "      <td>['Action_Figure', 'anime', 'ModioChallenge', '...</td>\n",
       "    </tr>\n",
       "    <tr>\n",
       "      <th>14</th>\n",
       "      <td>['hex', 'screw', 'star', 'toy']</td>\n",
       "    </tr>\n",
       "    <tr>\n",
       "      <th>15</th>\n",
       "      <td>['4-8-8-4', 'Locomotive', 'railroad', 'scale_m...</td>\n",
       "    </tr>\n",
       "    <tr>\n",
       "      <th>16</th>\n",
       "      <td>['balloon', 'whistle_goes_wooo_WOOOO']</td>\n",
       "    </tr>\n",
       "    <tr>\n",
       "      <th>17</th>\n",
       "      <td>['gyroscope', 'walking_toy']</td>\n",
       "    </tr>\n",
       "    <tr>\n",
       "      <th>18</th>\n",
       "      <td>['3D', 'prototype', 'typeface']</td>\n",
       "    </tr>\n",
       "    <tr>\n",
       "      <th>19</th>\n",
       "      <td>['clock', 'escapement', 'Gear', 'handle', 'mec...</td>\n",
       "    </tr>\n",
       "    <tr>\n",
       "      <th>20</th>\n",
       "      <td>['cryptex', 'LulzBot', 'puzzel', 'puzzle', 'toy']</td>\n",
       "    </tr>\n",
       "    <tr>\n",
       "      <th>21</th>\n",
       "      <td>['architecture', 'Cathedral', 'design_week', '...</td>\n",
       "    </tr>\n",
       "    <tr>\n",
       "      <th>22</th>\n",
       "      <td>['atom', 'bohr', 'chemistry', 'customizer', 'e...</td>\n",
       "    </tr>\n",
       "    <tr>\n",
       "      <th>23</th>\n",
       "      <td>['beach', 'bucket', 'grovel', 'holiday', 'kids...</td>\n",
       "    </tr>\n",
       "    <tr>\n",
       "      <th>24</th>\n",
       "      <td>['futur', 'makerbot', 'moto']</td>\n",
       "    </tr>\n",
       "    <tr>\n",
       "      <th>25</th>\n",
       "      <td>['3D', 'CNC_Machine', 'featured', 'reprap']</td>\n",
       "    </tr>\n",
       "    <tr>\n",
       "      <th>26</th>\n",
       "      <td>['android', 'arduino', 'autonomous', 'battery'...</td>\n",
       "    </tr>\n",
       "    <tr>\n",
       "      <th>27</th>\n",
       "      <td>['mold', 'molds', 'snow', 'snowman', 'snowmen'...</td>\n",
       "    </tr>\n",
       "    <tr>\n",
       "      <th>28</th>\n",
       "      <td>['Castle', 'construction_kit', 'LEGO', 'opensc...</td>\n",
       "    </tr>\n",
       "    <tr>\n",
       "      <th>29</th>\n",
       "      <td>['box', 'container', 'gift', 'Heart', 'puzzle'...</td>\n",
       "    </tr>\n",
       "    <tr>\n",
       "      <th>...</th>\n",
       "      <td>...</td>\n",
       "    </tr>\n",
       "    <tr>\n",
       "      <th>9916</th>\n",
       "      <td>['2Color', 'amphibian', 'dualstrusion', 'frog'...</td>\n",
       "    </tr>\n",
       "    <tr>\n",
       "      <th>9917</th>\n",
       "      <td>['aircraft', 'air_powered', 'balloon', 'design...</td>\n",
       "    </tr>\n",
       "    <tr>\n",
       "      <th>9918</th>\n",
       "      <td>['arduino', 'customizable', 'customizer', 'lam...</td>\n",
       "    </tr>\n",
       "    <tr>\n",
       "      <th>9919</th>\n",
       "      <td>['advent_calendar', 'christmas', 'collection',...</td>\n",
       "    </tr>\n",
       "    <tr>\n",
       "      <th>9920</th>\n",
       "      <td>['Articulated', 'ball_joint', 'BJD', 'doll', '...</td>\n",
       "    </tr>\n",
       "    <tr>\n",
       "      <th>9921</th>\n",
       "      <td>['openscad', 'Two_Color']</td>\n",
       "    </tr>\n",
       "    <tr>\n",
       "      <th>9922</th>\n",
       "      <td>['burger', 'cooking', 'food', 'kitchen', 'mould']</td>\n",
       "    </tr>\n",
       "    <tr>\n",
       "      <th>9923</th>\n",
       "      <td>['flower', 'vase']</td>\n",
       "    </tr>\n",
       "    <tr>\n",
       "      <th>9924</th>\n",
       "      <td>['art', 'gears', 'kinetic', 'sketchup', 'sprin...</td>\n",
       "    </tr>\n",
       "    <tr>\n",
       "      <th>9925</th>\n",
       "      <td>['atom', 'bohr', 'chemistry', 'customizer', 'e...</td>\n",
       "    </tr>\n",
       "    <tr>\n",
       "      <th>9926</th>\n",
       "      <td>['antique', 'autumn', 'bird', 'fall', 'leaf', ...</td>\n",
       "    </tr>\n",
       "    <tr>\n",
       "      <th>9927</th>\n",
       "      <td>['3dhubs', 'desk', 'math', 'polyhedra']</td>\n",
       "    </tr>\n",
       "    <tr>\n",
       "      <th>9928</th>\n",
       "      <td>['Champagne_Glass', 'glass']</td>\n",
       "    </tr>\n",
       "    <tr>\n",
       "      <th>9929</th>\n",
       "      <td>['Castle', 'construction_kit', 'LEGO', 'opensc...</td>\n",
       "    </tr>\n",
       "    <tr>\n",
       "      <th>9930</th>\n",
       "      <td>['Castle', 'construction_kit', 'LEGO', 'opensc...</td>\n",
       "    </tr>\n",
       "    <tr>\n",
       "      <th>9931</th>\n",
       "      <td>['3D', 'art', 'Deadmau5', 'jewelry', 'laser', ...</td>\n",
       "    </tr>\n",
       "    <tr>\n",
       "      <th>9932</th>\n",
       "      <td>['box', 'key', 'Lock', 'pick', 'safe', 'treasu...</td>\n",
       "    </tr>\n",
       "    <tr>\n",
       "      <th>9933</th>\n",
       "      <td>['2Color', 'blatt', 'dualstrusion', 'meat', 's...</td>\n",
       "    </tr>\n",
       "    <tr>\n",
       "      <th>9934</th>\n",
       "      <td>['LEGO', 'reindeer', 'santa', 'sleigh', 'xmas']</td>\n",
       "    </tr>\n",
       "    <tr>\n",
       "      <th>9935</th>\n",
       "      <td>['3D', 'applications', 'automata', 'automaton'...</td>\n",
       "    </tr>\n",
       "    <tr>\n",
       "      <th>9936</th>\n",
       "      <td>['robot', 'tank', 'Tracked']</td>\n",
       "    </tr>\n",
       "    <tr>\n",
       "      <th>9937</th>\n",
       "      <td>['1to24scale', 'dollhouse', 'furniture', 'tosc...</td>\n",
       "    </tr>\n",
       "    <tr>\n",
       "      <th>9938</th>\n",
       "      <td>['complex', 'math', 'pva', 'support', 'dualstr...</td>\n",
       "    </tr>\n",
       "    <tr>\n",
       "      <th>9939</th>\n",
       "      <td>['barspin', 'Daniel_Noree', 'openrc', 'radioco...</td>\n",
       "    </tr>\n",
       "    <tr>\n",
       "      <th>9940</th>\n",
       "      <td>['3d_printer', 'car', 'star_wars', 'X_Wing', '...</td>\n",
       "    </tr>\n",
       "    <tr>\n",
       "      <th>9941</th>\n",
       "      <td>['iPad', 'Ipad_mini', 'iPad_Stand', 'stand']</td>\n",
       "    </tr>\n",
       "    <tr>\n",
       "      <th>9942</th>\n",
       "      <td>['3D', '3dprint', 'art', 'cellular', 'makerbot...</td>\n",
       "    </tr>\n",
       "    <tr>\n",
       "      <th>9943</th>\n",
       "      <td>['baking', 'cookies', 'cookie_cutter', 'custom...</td>\n",
       "    </tr>\n",
       "    <tr>\n",
       "      <th>9944</th>\n",
       "      <td>['Action_Figure', 'articulable']</td>\n",
       "    </tr>\n",
       "    <tr>\n",
       "      <th>9945</th>\n",
       "      <td>['AMAO', 'bear', 'bear__Low_poly']</td>\n",
       "    </tr>\n",
       "  </tbody>\n",
       "</table>\n",
       "<p>9946 rows × 1 columns</p>\n",
       "</div>"
      ],
      "text/plain": [
       "                                                      0\n",
       "0                        ['rover', 'spider', 'walking']\n",
       "1     ['articulado', 'ball_jointed', 'cool', 'doll',...\n",
       "2     ['christmas', 'gift', 'holiday', 'makerbot', '...\n",
       "3     ['laser', 'laser_chess', '3D', 'board_game', '...\n",
       "4     ['flute', 'music', 'recorder', 'empire_state_b...\n",
       "5                                                   NaN\n",
       "6      ['clock', 'desk_clock', 'divers_watch', 'watch']\n",
       "7     ['bird', 'birdhouse', 'BirdhouseChallenge', 'B...\n",
       "8                                       ['interesting']\n",
       "9     ['optimus_prime', 'tardis', 'toy', 'transformer']\n",
       "10    ['architecture', 'budmen', 'cloud', 'cloud_fac...\n",
       "11                              ['animal', 'sculpture']\n",
       "12    ['board', 'chess', 'dragon', 'fantasy', 'fire'...\n",
       "13    ['Action_Figure', 'anime', 'ModioChallenge', '...\n",
       "14                      ['hex', 'screw', 'star', 'toy']\n",
       "15    ['4-8-8-4', 'Locomotive', 'railroad', 'scale_m...\n",
       "16               ['balloon', 'whistle_goes_wooo_WOOOO']\n",
       "17                         ['gyroscope', 'walking_toy']\n",
       "18                      ['3D', 'prototype', 'typeface']\n",
       "19    ['clock', 'escapement', 'Gear', 'handle', 'mec...\n",
       "20    ['cryptex', 'LulzBot', 'puzzel', 'puzzle', 'toy']\n",
       "21    ['architecture', 'Cathedral', 'design_week', '...\n",
       "22    ['atom', 'bohr', 'chemistry', 'customizer', 'e...\n",
       "23    ['beach', 'bucket', 'grovel', 'holiday', 'kids...\n",
       "24                        ['futur', 'makerbot', 'moto']\n",
       "25          ['3D', 'CNC_Machine', 'featured', 'reprap']\n",
       "26    ['android', 'arduino', 'autonomous', 'battery'...\n",
       "27    ['mold', 'molds', 'snow', 'snowman', 'snowmen'...\n",
       "28    ['Castle', 'construction_kit', 'LEGO', 'opensc...\n",
       "29    ['box', 'container', 'gift', 'Heart', 'puzzle'...\n",
       "...                                                 ...\n",
       "9916  ['2Color', 'amphibian', 'dualstrusion', 'frog'...\n",
       "9917  ['aircraft', 'air_powered', 'balloon', 'design...\n",
       "9918  ['arduino', 'customizable', 'customizer', 'lam...\n",
       "9919  ['advent_calendar', 'christmas', 'collection',...\n",
       "9920  ['Articulated', 'ball_joint', 'BJD', 'doll', '...\n",
       "9921                          ['openscad', 'Two_Color']\n",
       "9922  ['burger', 'cooking', 'food', 'kitchen', 'mould']\n",
       "9923                                 ['flower', 'vase']\n",
       "9924  ['art', 'gears', 'kinetic', 'sketchup', 'sprin...\n",
       "9925  ['atom', 'bohr', 'chemistry', 'customizer', 'e...\n",
       "9926  ['antique', 'autumn', 'bird', 'fall', 'leaf', ...\n",
       "9927            ['3dhubs', 'desk', 'math', 'polyhedra']\n",
       "9928                       ['Champagne_Glass', 'glass']\n",
       "9929  ['Castle', 'construction_kit', 'LEGO', 'opensc...\n",
       "9930  ['Castle', 'construction_kit', 'LEGO', 'opensc...\n",
       "9931  ['3D', 'art', 'Deadmau5', 'jewelry', 'laser', ...\n",
       "9932  ['box', 'key', 'Lock', 'pick', 'safe', 'treasu...\n",
       "9933  ['2Color', 'blatt', 'dualstrusion', 'meat', 's...\n",
       "9934    ['LEGO', 'reindeer', 'santa', 'sleigh', 'xmas']\n",
       "9935  ['3D', 'applications', 'automata', 'automaton'...\n",
       "9936                       ['robot', 'tank', 'Tracked']\n",
       "9937  ['1to24scale', 'dollhouse', 'furniture', 'tosc...\n",
       "9938  ['complex', 'math', 'pva', 'support', 'dualstr...\n",
       "9939  ['barspin', 'Daniel_Noree', 'openrc', 'radioco...\n",
       "9940  ['3d_printer', 'car', 'star_wars', 'X_Wing', '...\n",
       "9941       ['iPad', 'Ipad_mini', 'iPad_Stand', 'stand']\n",
       "9942  ['3D', '3dprint', 'art', 'cellular', 'makerbot...\n",
       "9943  ['baking', 'cookies', 'cookie_cutter', 'custom...\n",
       "9944                   ['Action_Figure', 'articulable']\n",
       "9945                 ['AMAO', 'bear', 'bear__Low_poly']\n",
       "\n",
       "[9946 rows x 1 columns]"
      ]
     },
     "execution_count": 11,
     "metadata": {},
     "output_type": "execute_result"
    }
   ],
   "source": [
    "pd.DataFrame(thingi.df.tags.values.tolist())"
   ]
  },
  {
   "cell_type": "code",
   "execution_count": 15,
   "metadata": {},
   "outputs": [
    {
     "name": "stdout",
     "output_type": "stream",
     "text": [
      "0       [8, 10, 12]\n",
      "1    [7, 9, 11, 14]\n",
      "Name: 0, dtype: object\n"
     ]
    },
    {
     "data": {
      "text/html": [
       "<div>\n",
       "<style scoped>\n",
       "    .dataframe tbody tr th:only-of-type {\n",
       "        vertical-align: middle;\n",
       "    }\n",
       "\n",
       "    .dataframe tbody tr th {\n",
       "        vertical-align: top;\n",
       "    }\n",
       "\n",
       "    .dataframe thead th {\n",
       "        text-align: right;\n",
       "    }\n",
       "</style>\n",
       "<table border=\"1\" class=\"dataframe\">\n",
       "  <thead>\n",
       "    <tr style=\"text-align: right;\">\n",
       "      <th></th>\n",
       "      <th>0</th>\n",
       "      <th>1</th>\n",
       "      <th>2</th>\n",
       "      <th>3</th>\n",
       "    </tr>\n",
       "  </thead>\n",
       "  <tbody>\n",
       "    <tr>\n",
       "      <th>0</th>\n",
       "      <td>8</td>\n",
       "      <td>10</td>\n",
       "      <td>12</td>\n",
       "      <td>NaN</td>\n",
       "    </tr>\n",
       "    <tr>\n",
       "      <th>1</th>\n",
       "      <td>7</td>\n",
       "      <td>9</td>\n",
       "      <td>11</td>\n",
       "      <td>14.0</td>\n",
       "    </tr>\n",
       "  </tbody>\n",
       "</table>\n",
       "</div>"
      ],
      "text/plain": [
       "   0   1   2     3\n",
       "0  8  10  12   NaN\n",
       "1  7   9  11  14.0"
      ]
     },
     "execution_count": 15,
     "metadata": {},
     "output_type": "execute_result"
    }
   ],
   "source": [
    "import pandas as pd\n",
    "\n",
    "df = pd.DataFrame(data=[[['8','10','12'], 'A'],\n",
    "                        [['7','9','11', 14], 'B']])\n",
    "\n",
    "print(df[0])\n",
    "\n",
    "df[0].apply(pd.Series)"
   ]
  },
  {
   "cell_type": "code",
   "execution_count": 19,
   "metadata": {},
   "outputs": [
    {
     "name": "stdout",
     "output_type": "stream",
     "text": [
      "                   0                        1                   2   \\\n",
      "0               rover                   spider             walking   \n",
      "1          articulado             ball_jointed                cool   \n",
      "2           christmas                     gift             holiday   \n",
      "3               laser              laser_chess                  3D   \n",
      "4               flute                    music            recorder   \n",
      "5                 NaN                      NaN                 NaN   \n",
      "6               clock               desk_clock        divers_watch   \n",
      "7                bird                birdhouse  BirdhouseChallenge   \n",
      "8         interesting                     None                None   \n",
      "9       optimus_prime                   tardis                 toy   \n",
      "10       architecture                   budmen               cloud   \n",
      "11             animal                sculpture                None   \n",
      "12              board                    chess              dragon   \n",
      "13      Action_Figure                    anime      ModioChallenge   \n",
      "14                hex                    screw                star   \n",
      "15            4-8-8-4               Locomotive            railroad   \n",
      "16            balloon  whistle_goes_wooo_WOOOO                None   \n",
      "17          gyroscope              walking_toy                None   \n",
      "18                 3D                prototype            typeface   \n",
      "19              clock               escapement                Gear   \n",
      "20            cryptex                  LulzBot              puzzel   \n",
      "21       architecture                Cathedral         design_week   \n",
      "22               atom                     bohr           chemistry   \n",
      "23              beach                   bucket              grovel   \n",
      "24              futur                 makerbot                moto   \n",
      "25                 3D              CNC_Machine            featured   \n",
      "26            android                  arduino          autonomous   \n",
      "27               mold                    molds                snow   \n",
      "28             Castle         construction_kit                LEGO   \n",
      "29                box                container                gift   \n",
      "...               ...                      ...                 ...   \n",
      "9916           2Color                amphibian        dualstrusion   \n",
      "9917         aircraft              air_powered             balloon   \n",
      "9918          arduino             customizable          customizer   \n",
      "9919  advent_calendar                christmas          collection   \n",
      "9920      Articulated               ball_joint                 BJD   \n",
      "9921         openscad                Two_Color                None   \n",
      "9922           burger                  cooking                food   \n",
      "9923           flower                     vase                None   \n",
      "9924              art                    gears             kinetic   \n",
      "9925             atom                     bohr           chemistry   \n",
      "9926          antique                   autumn                bird   \n",
      "9927           3dhubs                     desk                math   \n",
      "9928  Champagne_Glass                    glass                None   \n",
      "9929           Castle         construction_kit                LEGO   \n",
      "9930           Castle         construction_kit                LEGO   \n",
      "9931               3D                      art            Deadmau5   \n",
      "9932              box                      key                Lock   \n",
      "9933           2Color                    blatt        dualstrusion   \n",
      "9934             LEGO                 reindeer               santa   \n",
      "9935               3D             applications            automata   \n",
      "9936            robot                     tank             Tracked   \n",
      "9937       1to24scale                dollhouse           furniture   \n",
      "9938          complex                     math                 pva   \n",
      "9939          barspin             Daniel_Noree              openrc   \n",
      "9940       3d_printer                      car           star_wars   \n",
      "9941             iPad                Ipad_mini          iPad_Stand   \n",
      "9942               3D                  3dprint                 art   \n",
      "9943           baking                  cookies       cookie_cutter   \n",
      "9944    Action_Figure              articulable                None   \n",
      "9945             AMAO                     bear      bear__Low_poly   \n",
      "\n",
      "                         3                       4                       5   \\\n",
      "0                      None                    None                    None   \n",
      "1                      doll                 jointed               printdoll   \n",
      "2                  makerbot              nutcracker                    None   \n",
      "3                board_game               boardgame                   chess   \n",
      "4     empire_state_building              instrument                    None   \n",
      "5                       NaN                     NaN                     NaN   \n",
      "6                     watch                    None                    None   \n",
      "7       Birdhouse_Challenge  customizable_birdhouse              customizer   \n",
      "8                      None                    None                    None   \n",
      "9               transformer                    None                    None   \n",
      "10            cloud_factory                 factory                 fiction   \n",
      "11                     None                    None                    None   \n",
      "12                  fantasy                    fire                    game   \n",
      "13                    sword                     toy                  weapon   \n",
      "14                      toy                    None                    None   \n",
      "15              scale_model        Steam_Locomotive             steam_train   \n",
      "16                     None                    None                    None   \n",
      "17                     None                    None                    None   \n",
      "18                     None                    None                    None   \n",
      "19                   handle              mechanical          Planetary_Gear   \n",
      "20                   puzzle                     toy                    None   \n",
      "21                    duomo                makerbot                   milan   \n",
      "22               customizer                electron  electron_configuration   \n",
      "23                  holiday                    kids                    mold   \n",
      "24                     None                    None                    None   \n",
      "25                   reprap                    None                    None   \n",
      "26                  battery                   biped                    Lipo   \n",
      "27                  snowman                 snowmen               snow_mold   \n",
      "28                 openscad                     toy                    None   \n",
      "29                    Heart                  puzzle               valentine   \n",
      "...                     ...                     ...                     ...   \n",
      "9916                   frog      reaction_diffusion                Treefrog   \n",
      "9917                 design             engineering         experimentation   \n",
      "9918                   lamp                     LED               lightitup   \n",
      "9919                LulzBot                  puzzle                    None   \n",
      "9920                   doll                    frog                    None   \n",
      "9921                   None                    None                    None   \n",
      "9922                kitchen                   mould                    None   \n",
      "9923                   None                    None                    None   \n",
      "9924               sketchup                  spring         universal_joint   \n",
      "9925             customizer                electron  electron_configuration   \n",
      "9926                   fall                    leaf                  leaves   \n",
      "9927              polyhedra                    None                    None   \n",
      "9928                   None                    None                    None   \n",
      "9929               openscad                     toy                    None   \n",
      "9930               openscad                     toy                    None   \n",
      "9931                jewelry                   laser            laser_cutter   \n",
      "9932                   pick                    safe                treasure   \n",
      "9933                   meat                   steak                   tbone   \n",
      "9934                 sleigh                    xmas                    None   \n",
      "9935              automaton                 bakutis                    hand   \n",
      "9936                   None                    None                    None   \n",
      "9937                toscale                    None                    None   \n",
      "9938                support            dualstrusion             hilbertcube   \n",
      "9939        radiocontrolled                      RC                  RC_Car   \n",
      "9940                 X_Wing                makerbot                openscad   \n",
      "9941                  stand                    None                    None   \n",
      "9942               cellular                makerbot          nervous_system   \n",
      "9943             customizer                     diy                 example   \n",
      "9944                   None                    None                    None   \n",
      "9945                   None                    None                    None   \n",
      "\n",
      "                   6               7                      8                9   \\\n",
      "0                None            None                   None             None   \n",
      "1               robot           wierd                   None             None   \n",
      "2                None            None                   None             None   \n",
      "3          chessboard     electronics               featured             game   \n",
      "4                None            None                   None             None   \n",
      "5                 NaN             NaN                    NaN              NaN   \n",
      "6                None            None                   None             None   \n",
      "7               house            None                   None             None   \n",
      "8                None            None                   None             None   \n",
      "9                None            None                   None             None   \n",
      "10        imagination    isaac_budmen                  model             None   \n",
      "11               None            None                   None             None   \n",
      "12    game_of_thrones             Ice       Ill_Gotten_Games         medieval   \n",
      "13               None            None                   None             None   \n",
      "14               None            None                   None             None   \n",
      "15      Union_Pacific            None                   None             None   \n",
      "16               None            None                   None             None   \n",
      "17               None            None                   None             None   \n",
      "18               None            None                   None             None   \n",
      "19          printable          pulley                  screw           spring   \n",
      "20               None            None                   None             None   \n",
      "21             milano        sketchup                  wefab           wilcox   \n",
      "22             gimbal  periodic_table                physics             None   \n",
      "23               pail            park                   play          playset   \n",
      "24               None            None                   None             None   \n",
      "25               None            None                   None             None   \n",
      "26           PrintBot         printed           Programmable            robot   \n",
      "27               None            None                   None             None   \n",
      "28               None            None                   None             None   \n",
      "29            wedding            None                   None             None   \n",
      "...               ...             ...                    ...              ...   \n",
      "9916        tree_frog            None                   None             None   \n",
      "9917           flight      Helicopter                physics       solidworks   \n",
      "9918       parametric           solar            solar_power    solar_powered   \n",
      "9919             None            None                   None             None   \n",
      "9920             None            None                   None             None   \n",
      "9921             None            None                   None             None   \n",
      "9922             None            None                   None             None   \n",
      "9923             None            None                   None             None   \n",
      "9924             None            None                   None             None   \n",
      "9925           gimbal  periodic_table                physics             None   \n",
      "9926         makerbot         movable           moving_parts             wood   \n",
      "9927             None            None                   None             None   \n",
      "9928             None            None                   None             None   \n",
      "9929             None            None                   None             None   \n",
      "9930             None            None                   None             None   \n",
      "9931            model        ornament             parametric      supportless   \n",
      "9932             None            None                   None             None   \n",
      "9933            zenix            None                   None             None   \n",
      "9934             None            None                   None             None   \n",
      "9935    jason_bakutis        makerbot  makerbot_applications  mechanical_hand   \n",
      "9936             None            None                   None             None   \n",
      "9937             None            None                   None             None   \n",
      "9938             None            None                   None             None   \n",
      "9939         TopSolid     touring_car                   None             None   \n",
      "9940   Plastic_Valley             toy                   UC3M      Wacky_Races   \n",
      "9941             None            None                   None             None   \n",
      "9942          organic       sculpture                   None             None   \n",
      "9943             None            None                   None             None   \n",
      "9944             None            None                   None             None   \n",
      "9945             None            None                   None             None   \n",
      "\n",
      "      ...    52    53    54    55    56    57    58    59    60    61  \n",
      "0     ...  None  None  None  None  None  None  None  None  None  None  \n",
      "1     ...  None  None  None  None  None  None  None  None  None  None  \n",
      "2     ...  None  None  None  None  None  None  None  None  None  None  \n",
      "3     ...  None  None  None  None  None  None  None  None  None  None  \n",
      "4     ...  None  None  None  None  None  None  None  None  None  None  \n",
      "5     ...   NaN   NaN   NaN   NaN   NaN   NaN   NaN   NaN   NaN   NaN  \n",
      "6     ...  None  None  None  None  None  None  None  None  None  None  \n",
      "7     ...  None  None  None  None  None  None  None  None  None  None  \n",
      "8     ...  None  None  None  None  None  None  None  None  None  None  \n",
      "9     ...  None  None  None  None  None  None  None  None  None  None  \n",
      "10    ...  None  None  None  None  None  None  None  None  None  None  \n",
      "11    ...  None  None  None  None  None  None  None  None  None  None  \n",
      "12    ...  None  None  None  None  None  None  None  None  None  None  \n",
      "13    ...  None  None  None  None  None  None  None  None  None  None  \n",
      "14    ...  None  None  None  None  None  None  None  None  None  None  \n",
      "15    ...  None  None  None  None  None  None  None  None  None  None  \n",
      "16    ...  None  None  None  None  None  None  None  None  None  None  \n",
      "17    ...  None  None  None  None  None  None  None  None  None  None  \n",
      "18    ...  None  None  None  None  None  None  None  None  None  None  \n",
      "19    ...  None  None  None  None  None  None  None  None  None  None  \n",
      "20    ...  None  None  None  None  None  None  None  None  None  None  \n",
      "21    ...  None  None  None  None  None  None  None  None  None  None  \n",
      "22    ...  None  None  None  None  None  None  None  None  None  None  \n",
      "23    ...  None  None  None  None  None  None  None  None  None  None  \n",
      "24    ...  None  None  None  None  None  None  None  None  None  None  \n",
      "25    ...  None  None  None  None  None  None  None  None  None  None  \n",
      "26    ...  None  None  None  None  None  None  None  None  None  None  \n",
      "27    ...  None  None  None  None  None  None  None  None  None  None  \n",
      "28    ...  None  None  None  None  None  None  None  None  None  None  \n",
      "29    ...  None  None  None  None  None  None  None  None  None  None  \n",
      "...   ...   ...   ...   ...   ...   ...   ...   ...   ...   ...   ...  \n",
      "9916  ...  None  None  None  None  None  None  None  None  None  None  \n",
      "9917  ...  None  None  None  None  None  None  None  None  None  None  \n",
      "9918  ...  None  None  None  None  None  None  None  None  None  None  \n",
      "9919  ...  None  None  None  None  None  None  None  None  None  None  \n",
      "9920  ...  None  None  None  None  None  None  None  None  None  None  \n",
      "9921  ...  None  None  None  None  None  None  None  None  None  None  \n",
      "9922  ...  None  None  None  None  None  None  None  None  None  None  \n",
      "9923  ...  None  None  None  None  None  None  None  None  None  None  \n",
      "9924  ...  None  None  None  None  None  None  None  None  None  None  \n",
      "9925  ...  None  None  None  None  None  None  None  None  None  None  \n",
      "9926  ...  None  None  None  None  None  None  None  None  None  None  \n",
      "9927  ...  None  None  None  None  None  None  None  None  None  None  \n",
      "9928  ...  None  None  None  None  None  None  None  None  None  None  \n",
      "9929  ...  None  None  None  None  None  None  None  None  None  None  \n",
      "9930  ...  None  None  None  None  None  None  None  None  None  None  \n",
      "9931  ...  None  None  None  None  None  None  None  None  None  None  \n",
      "9932  ...  None  None  None  None  None  None  None  None  None  None  \n",
      "9933  ...  None  None  None  None  None  None  None  None  None  None  \n",
      "9934  ...  None  None  None  None  None  None  None  None  None  None  \n",
      "9935  ...  None  None  None  None  None  None  None  None  None  None  \n",
      "9936  ...  None  None  None  None  None  None  None  None  None  None  \n",
      "9937  ...  None  None  None  None  None  None  None  None  None  None  \n",
      "9938  ...  None  None  None  None  None  None  None  None  None  None  \n",
      "9939  ...  None  None  None  None  None  None  None  None  None  None  \n",
      "9940  ...  None  None  None  None  None  None  None  None  None  None  \n",
      "9941  ...  None  None  None  None  None  None  None  None  None  None  \n",
      "9942  ...  None  None  None  None  None  None  None  None  None  None  \n",
      "9943  ...  None  None  None  None  None  None  None  None  None  None  \n",
      "9944  ...  None  None  None  None  None  None  None  None  None  None  \n",
      "9945  ...  None  None  None  None  None  None  None  None  None  None  \n",
      "\n",
      "[9946 rows x 62 columns]\n"
     ]
    }
   ],
   "source": [
    "# https://stackoverflow.com/questions/46391430/working-with-lists-in-pandas-applypd-series-doesnt-work-an-alternative-sol\n",
    "df = thingi.df.tags.str.strip('[]').str.replace(\"'\", \"\").str.split(', ', expand=True)\n",
    "print (df)"
   ]
  },
  {
   "cell_type": "code",
   "execution_count": null,
   "metadata": {},
   "outputs": [],
   "source": []
  }
 ],
 "metadata": {
  "kernelspec": {
   "display_name": ".3d-form",
   "language": "python",
   "name": ".3d-form"
  },
  "language_info": {
   "codemirror_mode": {
    "name": "ipython",
    "version": 3
   },
   "file_extension": ".py",
   "mimetype": "text/x-python",
   "name": "python",
   "nbconvert_exporter": "python",
   "pygments_lexer": "ipython3",
   "version": "3.5.2"
  }
 },
 "nbformat": 4,
 "nbformat_minor": 2
}
