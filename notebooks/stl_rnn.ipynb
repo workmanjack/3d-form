{
 "cells": [
  {
   "cell_type": "markdown",
   "metadata": {},
   "source": [
    "# STL RNN\n",
    "\n",
    "The goal of this notebook is to convert the char RNN example from the rnn_examples notebook into one that can process STL files.\n",
    "\n",
    "Unfortunately, reusing code from the rnn_examples notebook did not work out as well as hoped. It did, however, serve as a quality learning exercise. The rnn_examples model is based on discrete input: language where each word is an indexed token. That leads to problems with our model as our input is continuous: each stl file has vertices that can be any real number.\n",
    "\n",
    "After a continuous example was located, our luck improved: https://github.com/subpath/Keras_music_gereration/blob/master/Music%20gerenation%20with%20Keras%20and%20TF.ipynb"
   ]
  },
  {
   "cell_type": "markdown",
   "metadata": {},
   "source": [
    "## Setup"
   ]
  },
  {
   "cell_type": "code",
   "execution_count": 1,
   "metadata": {},
   "outputs": [],
   "source": [
    "# setup\n",
    "from __future__ import absolute_import, division, print_function\n",
    "\n",
    "import tensorflow as tf\n",
    "tf.enable_eager_execution()\n",
    "\n",
    "import numpy as np\n",
    "import os\n",
    "import time\n",
    "\n",
    "# autoreload changed modules!!\n",
    "# https://stackoverflow.com/questions/5364050/reloading-submodules-in-ipython\n",
    "%load_ext autoreload\n",
    "%autoreload 2"
   ]
  },
  {
   "cell_type": "markdown",
   "metadata": {},
   "source": [
    "## Data\n",
    "\n",
    "An RNN processes data sequentially and is able to maintain an understanding of the __context__ between the current input and the last _M_ inputs.\n",
    "\n",
    "When this concept is applied to STL files, we want the RNN to understand that triangle $T_{i}$ must share vertices with triangle $T_{i-1}$. \n",
    "\n",
    "Therefore, we will form our input to be 2d matrices of triangles. Each input will be a vector of shape\n",
    "\n",
    "$$ [ x_1, y_1, z_1, x_2, y_2, z_2, x_3, y_3, z_3 ] $$\n",
    "\n",
    "An alternate approach is to use vertices as our input. This would have a shape of\n",
    "\n",
    "$$ [ x, y, z ] $$\n",
    "\n",
    "Both of the above make a powerful assumption: the vertices in the STL file are in order (i.e. triangle $T_{i}$ is next to  triangle $T_{i-1}$ in the STL file). A cursory glance of several STL files confirm that the triangles are in order, but a lengthier EDA of this assumption is recommended."
   ]
  },
  {
   "cell_type": "code",
   "execution_count": 2,
   "metadata": {},
   "outputs": [
    {
     "name": "stdout",
     "output_type": "stream",
     "text": [
      "n_samples:  10\n",
      "num_triangles:  69734\n"
     ]
    }
   ],
   "source": [
    "import env\n",
    "from data.thingi10k import Thingi10k\n",
    "from models import MODEL_DIR\n",
    "\n",
    "thingi = Thingi10k.init10()\n",
    "n_samples = len(thingi)\n",
    "print('n_samples: ', n_samples)\n",
    "print('num_triangles: ', thingi.num_triangles())"
   ]
  },
  {
   "cell_type": "code",
   "execution_count": 36,
   "metadata": {},
   "outputs": [
    {
     "name": "stdout",
     "output_type": "stream",
     "text": [
      "(49680, 270, 9)\n",
      "(49680, 9)\n",
      "(447120, 270, 1)\n",
      "(447120, 1)\n"
     ]
    }
   ],
   "source": [
    "# jumping in to throw out TF's dataset API; it is not working as expected\n",
    "# we want our data to be the shape of (batch_size, seq_length, 9) for triangles\n",
    "BATCH_SIZE = 9*50\n",
    "SEQ_LENGTH = 9*90\n",
    "WINDOW_SIZE = 9*30  # num triangles\n",
    "#UNIT_SIZE = 9  # triangle prediction\n",
    "UNIT_SIZE = 1  # vertex prediction\n",
    "\n",
    "X = list()\n",
    "Y = list()\n",
    "for seq in thingi.triangle_sequencer(SEQ_LENGTH):\n",
    "    for i in range(len(seq) - WINDOW_SIZE):\n",
    "        x = seq[i:i+WINDOW_SIZE]\n",
    "        y = seq[i+WINDOW_SIZE]\n",
    "        X.append(x)\n",
    "        Y.append(y)\n",
    "        \n",
    "X = np.asarray(X)\n",
    "Y = np.asarray(Y)\n",
    "\n",
    "# the idea is that given triangle sequence X, predict the next triangle\n",
    "# Y is the array that holds the next triangle\n",
    "# and each triangle sequence X is the same as the previous *plus one index*\n",
    "# so, X[1][-1] == Y[0]\n",
    "print(X.shape)\n",
    "print(Y.shape)\n",
    "assert np.array_equal(X[1][-1], Y[0])\n",
    "\n",
    "#dataset = zip(X, Y)\n",
    "\n",
    "# what if you want to do by vertex and not by triangle?\n",
    "X = np.reshape(X, (-1, WINDOW_SIZE, 1))\n",
    "Y = np.reshape(Y, (-1, 1))\n",
    "print(X.shape)\n",
    "print(Y.shape)"
   ]
  },
  {
   "cell_type": "markdown",
   "metadata": {},
   "source": [
    "## Build The Model"
   ]
  },
  {
   "cell_type": "code",
   "execution_count": 37,
   "metadata": {},
   "outputs": [],
   "source": [
    "def build_model(window_size, unit_size):\n",
    "    model = tf.keras.Sequential([\n",
    "        tf.keras.layers.LSTM(256, input_shape=(window_size, unit_size), return_sequences=True),\n",
    "        tf.keras.layers.Dropout(0.6),\n",
    "        tf.keras.layers.LSTM(128, input_shape=(window_size, unit_size), return_sequences=True),\n",
    "        tf.keras.layers.Dropout(0.6),\n",
    "        tf.keras.layers.LSTM(64, input_shape=(window_size, unit_size), return_sequences=False),\n",
    "        tf.keras.layers.Dropout(0.6),\n",
    "        tf.keras.layers.Dense(unit_size),\n",
    "        tf.keras.layers.Activation('linear')\n",
    "    ], name='stl-lstm')\n",
    "    return model"
   ]
  },
  {
   "cell_type": "code",
   "execution_count": 38,
   "metadata": {},
   "outputs": [
    {
     "name": "stdout",
     "output_type": "stream",
     "text": [
      "_________________________________________________________________\n",
      "Layer (type)                 Output Shape              Param #   \n",
      "=================================================================\n",
      "lstm_6 (LSTM)                (None, 270, 256)          264192    \n",
      "_________________________________________________________________\n",
      "dropout_6 (Dropout)          (None, 270, 256)          0         \n",
      "_________________________________________________________________\n",
      "lstm_7 (LSTM)                (None, 270, 128)          197120    \n",
      "_________________________________________________________________\n",
      "dropout_7 (Dropout)          (None, 270, 128)          0         \n",
      "_________________________________________________________________\n",
      "lstm_8 (LSTM)                (None, 64)                49408     \n",
      "_________________________________________________________________\n",
      "dropout_8 (Dropout)          (None, 64)                0         \n",
      "_________________________________________________________________\n",
      "dense_2 (Dense)              (None, 1)                 65        \n",
      "_________________________________________________________________\n",
      "activation_2 (Activation)    (None, 1)                 0         \n",
      "=================================================================\n",
      "Total params: 510,785\n",
      "Trainable params: 510,785\n",
      "Non-trainable params: 0\n",
      "_________________________________________________________________\n"
     ]
    }
   ],
   "source": [
    "model = build_model(window_size=WINDOW_SIZE, unit_size=UNIT_SIZE)\n",
    "optimizer = tf.train.AdamOptimizer()\n",
    "model.compile(loss='mse', optimizer=optimizer)\n",
    "os.makedirs(os.path.join(MODEL_DIR, 'stl_rnn', \"Checkpoints\"), exist_ok=True)\n",
    "filepath = os.path.join(MODEL_DIR, 'stl_rnn', \"Checkpoints/checkpoint_model_{epoch:02d}.hdf5\")\n",
    "model_save_callback = tf.keras.callbacks.ModelCheckpoint(filepath, monitor='val_acc', \n",
    "                                      verbose=1, save_best_only=False, \n",
    "                                      mode='auto', period=5)\n",
    "model.summary()"
   ]
  },
  {
   "cell_type": "markdown",
   "metadata": {},
   "source": [
    "## Try The Model"
   ]
  },
  {
   "cell_type": "code",
   "execution_count": null,
   "metadata": {},
   "outputs": [
    {
     "name": "stdout",
     "output_type": "stream",
     "text": [
      "Epoch 1/3\n",
      "1782/6987 [======>.......................] - ETA: 12:15:36 - loss: 0.0400"
     ]
    }
   ],
   "source": [
    "model.fit(X, Y, batch_size=64, epochs=3, verbose=1, callbacks=[model_save_callback])"
   ]
  },
  {
   "cell_type": "markdown",
   "metadata": {},
   "source": [
    "## Make A Prediction"
   ]
  },
  {
   "cell_type": "code",
   "execution_count": 19,
   "metadata": {},
   "outputs": [
    {
     "data": {
      "text/plain": [
       "(72, 1)"
      ]
     },
     "execution_count": 19,
     "metadata": {},
     "output_type": "execute_result"
    }
   ],
   "source": [
    "seed = X[0]\n",
    "seed.shape"
   ]
  },
  {
   "cell_type": "code",
   "execution_count": 25,
   "metadata": {},
   "outputs": [
    {
     "name": "stdout",
     "output_type": "stream",
     "text": [
      "Prediction 0: 0.5526803731918335\n",
      "Prediction 1000: 0.6259970664978027\n",
      "Prediction 2000: 0.6259970664978027\n",
      "Prediction 3000: 0.6259970664978027\n",
      "Prediction 4000: 0.6259970664978027\n",
      "new_preds: 173\n"
     ]
    }
   ],
   "source": [
    "prediction = []\n",
    "x = np.expand_dims(seed, axis=0)\n",
    "\n",
    "print_every = 1000\n",
    "last_pred = None\n",
    "new_preds = 0\n",
    "for i in range(5000):\n",
    "    preds = model.predict(x)\n",
    "    x = np.squeeze(x)\n",
    "    x = np.reshape(x, (-1, 1))\n",
    "    x = np.concatenate((x, preds))\n",
    "    x = x[1:]\n",
    "    x = np.expand_dims(x, axis=0)\n",
    "    preds = np.squeeze(preds)\n",
    "    if not np.array_equal(preds, last_pred):\n",
    "        #print('Prediction {}: it made something new!'.format(i))\n",
    "        #print('last: ', last_pred)\n",
    "        #print('new: ', preds)\n",
    "        new_preds += 1\n",
    "    last_pred = preds\n",
    "    prediction.append(preds)\n",
    "    if i % print_every == 0:\n",
    "        print('Prediction {}: {}'.format(i, preds))\n",
    "\n",
    "print('new_preds: {}'.format(new_preds))\n",
    "\n",
    "# rnn producing same predictions?\n",
    "#\n",
    "# https://datascience.stackexchange.com/questions/20442/recurrent-neural-network-producing-same-predictions\n",
    "# recommends increasing the batch size\n",
    "#\n",
    "# https://stackoverflow.com/questions/47125723/keras-lstm-for-text-generation-keeps-repeating-a-line-or-a-sequence\n",
    "# recommends increasing sequence length"
   ]
  },
  {
   "cell_type": "code",
   "execution_count": 29,
   "metadata": {},
   "outputs": [
    {
     "name": "stdout",
     "output_type": "stream",
     "text": [
      "(5000,)\n"
     ]
    },
    {
     "data": {
      "text/plain": [
       "(555, 3, 3)"
      ]
     },
     "execution_count": 29,
     "metadata": {},
     "output_type": "execute_result"
    }
   ],
   "source": [
    "vectors = thingi._reform_vectors(np.asarray(prediction[:-5]))\n",
    "vectors.shape"
   ]
  },
  {
   "cell_type": "code",
   "execution_count": 33,
   "metadata": {},
   "outputs": [
    {
     "data": {
      "text/plain": [
       "0"
      ]
     },
     "execution_count": 33,
     "metadata": {},
     "output_type": "execute_result"
    }
   ],
   "source": [
    "# any coordinates out of bounds?\n",
    "oob = 0\n",
    "for v in vectors:\n",
    "    if v.min() < 0 or v.max() > 1:\n",
    "        oob += 1\n",
    "        print(v)\n",
    "        break\n",
    "oob\n"
   ]
  },
  {
   "cell_type": "code",
   "execution_count": 35,
   "metadata": {},
   "outputs": [
    {
     "data": {
      "image/png": "[encoded data removed]",
      "text/plain": [
       "<Figure size 432x288 with 1 Axes>"
      ]
     },
     "metadata": {
      "needs_background": "light"
     },
     "output_type": "display_data"
    }
   ],
   "source": [
    "from data.stl import plot_mesh\n",
    "\n",
    "\n",
    "plot_mesh(vectors, title='STL-RNN')\n"
   ]
  },
  {
   "cell_type": "code",
   "execution_count": 138,
   "metadata": {},
   "outputs": [],
   "source": [
    "from data.stl import save_vectors_as_stl\n",
    "save_vectors_as_stl(vectors, 'first_rnn_stl.stl')"
   ]
  },
  {
   "cell_type": "code",
   "execution_count": null,
   "metadata": {},
   "outputs": [],
   "source": []
  }
 ],
 "metadata": {
  "kernelspec": {
   "display_name": ".3d-form",
   "language": "python",
   "name": ".3d-form"
  },
  "language_info": {
   "codemirror_mode": {
    "name": "ipython",
    "version": 3
   },
   "file_extension": ".py",
   "mimetype": "text/x-python",
   "name": "python",
   "nbconvert_exporter": "python",
   "pygments_lexer": "ipython3",
   "version": "3.5.2"
  }
 },
 "nbformat": 4,
 "nbformat_minor": 2
}
