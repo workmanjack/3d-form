{
 "cells": [
  {
   "cell_type": "markdown",
   "metadata": {},
   "source": [
    "# STL RNN\n",
    "\n",
    "The goal of this notebook is to convert the char RNN example from the rnn_examples notebook into one that can process STL files.\n",
    "\n",
    "Unfortunately, reusing code from the rnn_examples notebook did not work out as well as hoped. It did, however, serve as a quality learning exercise. The rnn_examples model is based on discrete input: language where each word is an indexed token. That leads to problems with our model as our input is continuous: each stl file has vertices that can be any real number.\n",
    "\n",
    "After a continuous example was located, Converting proved difficult, so we borrowed some inspiration and code from https://github.com/subpath/Keras_music_gereration/blob/master/Music%20gerenation%20with%20Keras%20and%20TF.ipynb"
   ]
  },
  {
   "cell_type": "markdown",
   "metadata": {},
   "source": [
    "## Setup"
   ]
  },
  {
   "cell_type": "code",
   "execution_count": 1,
   "metadata": {},
   "outputs": [],
   "source": [
    "# setup\n",
    "from __future__ import absolute_import, division, print_function\n",
    "\n",
    "import tensorflow as tf\n",
    "tf.enable_eager_execution()\n",
    "\n",
    "import numpy as np\n",
    "import os\n",
    "import time\n",
    "\n",
    "# autoreload changed modules!!\n",
    "# https://stackoverflow.com/questions/5364050/reloading-submodules-in-ipython\n",
    "%load_ext autoreload\n",
    "%autoreload 2"
   ]
  },
  {
   "cell_type": "markdown",
   "metadata": {},
   "source": [
    "## Data\n",
    "\n",
    "An RNN processes data sequentially and is able to maintain an understanding of the __context__ between the current input and the last _M_ inputs.\n",
    "\n",
    "When this concept is applied to STL files, we want the RNN to understand that triangle $T_{i}$ must share vertices with triangle $T_{i-1}$. \n",
    "\n",
    "Therefore, we will form our input to be 2d matrices of triangles. Each input will be a vector of shape\n",
    "\n",
    "$$ [ x_1, y_1, z_1, x_2, y_2, z_2, x_3, y_3, z_3 ] $$\n",
    "\n",
    "An alternate approach is to use vertices as our input. This would have a shape of\n",
    "\n",
    "$$ [ x, y, z ] $$\n",
    "\n",
    "Both of the above make a powerful assumption: the vertices in the STL file are in order (i.e. triangle $T_{i}$ is next to  triangle $T_{i-1}$ in the STL file). A cursory glance of several STL files confirm that the triangles are in order, but a lengthier EDA of this assumption is recommended."
   ]
  },
  {
   "cell_type": "code",
   "execution_count": 83,
   "metadata": {},
   "outputs": [
    {
     "name": "stdout",
     "output_type": "stream",
     "text": [
      "The autoreload extension is already loaded. To reload it, use:\n",
      "  %reload_ext autoreload\n"
     ]
    }
   ],
   "source": [
    "import env\n",
    "from data.thingi10k import Thingi10k\n",
    "from models import MODEL_DIR\n",
    "\n",
    "thingi = Thingi10k.init10()\n",
    "n_samples = len(thingi)\n",
    "n_samples"
   ]
  },
  {
   "cell_type": "code",
   "execution_count": 70,
   "metadata": {},
   "outputs": [
    {
     "name": "stdout",
     "output_type": "stream",
     "text": [
      "(61840, 10, 9)\n",
      "(61840, 9)\n"
     ]
    }
   ],
   "source": [
    "# jumping in to throw out TF's dataset API; it is not working as expected\n",
    "# we want our data to be the shape of (batch_size, seq_length, 9) for triangles\n",
    "thingi = Thingi10k.init10()\n",
    "\n",
    "BATCH_SIZE = 9*50\n",
    "SEQ_LENGTH = 90\n",
    "WINDOW_SIZE = 10  # num triangles\n",
    "\n",
    "X = list()\n",
    "Y = list()\n",
    "for seq in thingi.triangle_sequencer(SEQ_LENGTH):\n",
    "    for i in range(len(seq) - WINDOW_SIZE):\n",
    "        x = seq[i:i+WINDOW_SIZE]\n",
    "        y = seq[i+WINDOW_SIZE]\n",
    "        X.append(x)\n",
    "        Y.append(y)\n",
    "        \n",
    "X = np.asarray(X)\n",
    "Y = np.asarray(Y)\n",
    "\n",
    "# the idea is that given triangle sequence X, predict the next triangle\n",
    "# Y is the array that holds the next triangle\n",
    "# and each triangle sequence X is the same as the previous *plus one index*\n",
    "# so, X[1][-1] == Y[0]\n",
    "print(X.shape)\n",
    "print(Y.shape)\n",
    "assert np.array_equal(X[1][-1], Y[0])\n",
    "\n",
    "#dataset = zip(X, Y)"
   ]
  },
  {
   "cell_type": "markdown",
   "metadata": {},
   "source": [
    "## Build The Model"
   ]
  },
  {
   "cell_type": "code",
   "execution_count": 108,
   "metadata": {},
   "outputs": [],
   "source": [
    "def build_model(window_size):\n",
    "    model = tf.keras.Sequential([\n",
    "        tf.keras.layers.LSTM(256, input_shape=(window_size, 9), return_sequences=True),\n",
    "        tf.keras.layers.Dropout(0.6),\n",
    "        tf.keras.layers.LSTM(128, input_shape=(window_size, 9), return_sequences=True),\n",
    "        tf.keras.layers.Dropout(0.6),\n",
    "        tf.keras.layers.LSTM(64, input_shape=(window_size, 9), return_sequences=False),\n",
    "        tf.keras.layers.Dropout(0.6),\n",
    "        tf.keras.layers.Dense(9),\n",
    "        tf.keras.layers.Activation('linear')\n",
    "    ], name='stl-lstm')\n",
    "    return model"
   ]
  },
  {
   "cell_type": "code",
   "execution_count": 109,
   "metadata": {},
   "outputs": [
    {
     "name": "stdout",
     "output_type": "stream",
     "text": [
      "_________________________________________________________________\n",
      "Layer (type)                 Output Shape              Param #   \n",
      "=================================================================\n",
      "lstm_36 (LSTM)               (None, 10, 256)           272384    \n",
      "_________________________________________________________________\n",
      "dropout_36 (Dropout)         (None, 10, 256)           0         \n",
      "_________________________________________________________________\n",
      "lstm_37 (LSTM)               (None, 10, 128)           197120    \n",
      "_________________________________________________________________\n",
      "dropout_37 (Dropout)         (None, 10, 128)           0         \n",
      "_________________________________________________________________\n",
      "lstm_38 (LSTM)               (None, 64)                49408     \n",
      "_________________________________________________________________\n",
      "dropout_38 (Dropout)         (None, 64)                0         \n",
      "_________________________________________________________________\n",
      "dense_12 (Dense)             (None, 9)                 585       \n",
      "_________________________________________________________________\n",
      "activation_12 (Activation)   (None, 9)                 0         \n",
      "=================================================================\n",
      "Total params: 519,497\n",
      "Trainable params: 519,497\n",
      "Non-trainable params: 0\n",
      "_________________________________________________________________\n"
     ]
    }
   ],
   "source": [
    "model = build_model(window_size=WINDOW_SIZE)\n",
    "optimizer = tf.train.AdamOptimizer()\n",
    "model.compile(loss='mse', optimizer=optimizer)\n",
    "os.makedirs(os.path.join(MODEL_DIR, 'stl_rnn', \"Checkpoints\"), exist_ok=True)\n",
    "filepath = os.path.join(MODEL_DIR, 'stl_rnn', \"Checkpoints/checkpoint_model_{epoch:02d}.hdf5\")\n",
    "model_save_callback = tf.keras.callbacks.ModelCheckpoint(filepath, monitor='val_acc', \n",
    "                                      verbose=1, save_best_only=False, \n",
    "                                      mode='auto', period=5)\n",
    "model.summary()"
   ]
  },
  {
   "cell_type": "markdown",
   "metadata": {},
   "source": [
    "## Try The Model"
   ]
  },
  {
   "cell_type": "code",
   "execution_count": 110,
   "metadata": {},
   "outputs": [
    {
     "name": "stdout",
     "output_type": "stream",
     "text": [
      "Epoch 1/2\n",
      "967/967 [==============================] - 272s 282ms/step - loss: 0.0189\n",
      "Epoch 2/2\n",
      "967/967 [==============================] - 274s 283ms/step - loss: 0.0072\n"
     ]
    },
    {
     "data": {
      "text/plain": [
       "<tensorflow.python.keras.callbacks.History at 0x7febfc327d30>"
      ]
     },
     "execution_count": 110,
     "metadata": {},
     "output_type": "execute_result"
    }
   ],
   "source": [
    "model.fit(X, Y, batch_size=64, epochs=2, verbose=1, callbacks=[model_save_callback])"
   ]
  },
  {
   "cell_type": "code",
   "execution_count": 97,
   "metadata": {},
   "outputs": [
    {
     "name": "stdout",
     "output_type": "stream",
     "text": [
      "WARNING:tensorflow:TensorFlow optimizers do not make it possible to access optimizer attributes or optimizer state after instantiation. As a result, we cannot save the optimizer as part of the model save file.You will have to compile your model again after loading it. Prefer using a Keras optimizer instead (see keras.io/optimizers).\n"
     ]
    }
   ],
   "source": [
    "os.makedirs(os.path.join(MODEL_DIR, 'stl_rnn', \"Checkpoints\"), exist_ok=True)\n",
    "tf.keras.models.save_model(\n",
    "    model,\n",
    "    filepath,\n",
    "    overwrite=True,\n",
    "    include_optimizer=True\n",
    ")"
   ]
  },
  {
   "cell_type": "markdown",
   "metadata": {},
   "source": [
    "## Make A Prediction"
   ]
  },
  {
   "cell_type": "code",
   "execution_count": 111,
   "metadata": {},
   "outputs": [
    {
     "data": {
      "text/plain": [
       "(10, 9)"
      ]
     },
     "execution_count": 111,
     "metadata": {},
     "output_type": "execute_result"
    }
   ],
   "source": [
    "seed = X[0]\n",
    "seed.shape"
   ]
  },
  {
   "cell_type": "code",
   "execution_count": 132,
   "metadata": {},
   "outputs": [
    {
     "name": "stdout",
     "output_type": "stream",
     "text": [
      "Prediction 0: [0.44583884 0.5336387  0.53269356 0.4497082  0.5348737  0.53628594\n",
      " 0.44448692 0.530969   0.5382036 ]\n",
      "Prediction 1000: [ 0.8566195   0.6103736  -3.060442    0.7929027   0.6941055  -3.0853424\n",
      "  0.81953394  0.6597149  -3.1339579 ]\n",
      "Prediction 2000: [ 0.8566195   0.61037356 -3.060442    0.7929028   0.6941056  -3.0853424\n",
      "  0.81953394  0.6597149  -3.1339579 ]\n",
      "Prediction 3000: [ 0.8566194   0.61037356 -3.060442    0.79290277  0.69410557 -3.0853424\n",
      "  0.81953394  0.6597149  -3.1339576 ]\n",
      "Prediction 4000: [ 0.8566195   0.61037356 -3.060442    0.79290265  0.6941055  -3.0853424\n",
      "  0.81953394  0.6597149  -3.1339576 ]\n"
     ]
    }
   ],
   "source": [
    "prediction = []\n",
    "x = np.expand_dims(seed, axis=0)\n",
    "\n",
    "print_every = 1000\n",
    "last_pred = None\n",
    "new_preds = 0\n",
    "for i in range(5000):\n",
    "    preds = model.predict(x)\n",
    "    x = np.squeeze(x)\n",
    "    x = np.concatenate((x, preds))\n",
    "    x = x[1:]\n",
    "    x = np.expand_dims(x, axis=0)\n",
    "    preds = np.squeeze(preds)\n",
    "    if not np.array_equal(preds, last_pred):\n",
    "        #print('Prediction {}: it made something new!'.format(i))\n",
    "        #print('last: ', last_pred)\n",
    "        #print('new: ', preds)\n",
    "        new_preds += 1\n",
    "    last_pred = preds\n",
    "    prediction.append(preds)\n",
    "    if i % print_every == 0:\n",
    "        print('Prediction {}: {}'.format(i, preds))\n",
    "\n",
    "print('new_preds: {}'.format(new_preds))"
   ]
  },
  {
   "cell_type": "code",
   "execution_count": 134,
   "metadata": {},
   "outputs": [
    {
     "data": {
      "text/plain": [
       "(5000, 3, 3)"
      ]
     },
     "execution_count": 134,
     "metadata": {},
     "output_type": "execute_result"
    }
   ],
   "source": [
    "vectors = thingi._reform_vectors(np.asarray(prediction))\n",
    "vectors.shape"
   ]
  },
  {
   "cell_type": "code",
   "execution_count": 141,
   "metadata": {},
   "outputs": [
    {
     "name": "stdout",
     "output_type": "stream",
     "text": [
      "[[ 0.5703409   0.54285425 -0.00143111]\n",
      " [ 0.571657    0.5439389  -0.00177643]\n",
      " [ 0.568966    0.5433558  -0.00255778]]\n"
     ]
    },
    {
     "data": {
      "text/plain": [
       "1"
      ]
     },
     "execution_count": 141,
     "metadata": {},
     "output_type": "execute_result"
    }
   ],
   "source": [
    "# any coordinates out of bounds?\n",
    "oob = 0\n",
    "for v in vectors:\n",
    "    if v.min() < 0 or v.max() > 1:\n",
    "        oob += 1\n",
    "        print(v)\n",
    "        break\n",
    "oob"
   ]
  },
  {
   "cell_type": "code",
   "execution_count": 136,
   "metadata": {},
   "outputs": [
    {
     "data": {
      "image/png": "[encoded data removed]",
      "text/plain": [
       "<Figure size 432x288 with 1 Axes>"
      ]
     },
     "metadata": {
      "needs_background": "light"
     },
     "output_type": "display_data"
    }
   ],
   "source": [
    "from data.stl import plot_mesh\n",
    "\n",
    "\n",
    "plot_mesh(vectors, title='STL-RNN')\n"
   ]
  },
  {
   "cell_type": "code",
   "execution_count": 138,
   "metadata": {},
   "outputs": [],
   "source": [
    "from data.stl import save_vectors_as_stl\n",
    "save_vectors_as_stl(vectors, 'first_rnn_stl.stl')"
   ]
  },
  {
   "cell_type": "markdown",
   "metadata": {},
   "source": [
    "### Failed Attempt Below\n",
    "\n",
    "Reusing code from the rnn_examples notebook did not work out as well as hoped. It did, however, serve as a quality learning exercise. The rnn_examples model is based on discrete input: language where each word is an indexed token. That leads to problems with our model as our input is continuous: each stl file has vertices that can be any real number."
   ]
  },
  {
   "cell_type": "code",
   "execution_count": null,
   "metadata": {
    "scrolled": false
   },
   "outputs": [],
   "source": [
    "for input_example_batch, target_example_batch in zip(X, Y):\n",
    "    print(input_example_batch.shape)\n",
    "    example_batch_predictions = model(input_example_batch)\n",
    "    print(example_batch_predictions.shape, \"# (batch_size, sequence_length, vocab_size)\")\n",
    "    break"
   ]
  },
  {
   "cell_type": "code",
   "execution_count": 170,
   "metadata": {},
   "outputs": [],
   "source": [
    "sampled_indices = tf.random.multinomial(example_batch_predictions[0], num_samples=1)\n",
    "sampled_indices = tf.squeeze(sampled_indices,axis=-1).numpy()"
   ]
  },
  {
   "cell_type": "code",
   "execution_count": 171,
   "metadata": {},
   "outputs": [
    {
     "data": {
      "text/plain": [
       "array([770, 629, 737, 426, 154, 589, 950, 578, 418, 374,  55, 557, 569,\n",
       "       317, 631, 749,  19, 221, 923, 696, 391,  49, 435, 913, 561, 680,\n",
       "       360, 126, 191, 302, 819, 705, 650, 679, 672, 457, 130, 870, 543,\n",
       "       899, 919,  16,  47, 487, 753, 167, 280, 825,  11, 823, 319, 132,\n",
       "         8, 835, 515, 862, 301, 855, 411, 988, 198, 905, 488, 981, 850,\n",
       "       468, 982, 182,  31,  95, 622, 306, 322, 409,  25, 368, 229,  31,\n",
       "       619, 558, 242, 585, 391, 353, 197, 646, 857, 401, 472, 945, 262,\n",
       "       887, 482,  45, 920, 524, 352, 870, 475])"
      ]
     },
     "execution_count": 171,
     "metadata": {},
     "output_type": "execute_result"
    }
   ],
   "source": [
    "sampled_indices"
   ]
  },
  {
   "cell_type": "markdown",
   "metadata": {},
   "source": [
    "## Optimizer & Loss"
   ]
  },
  {
   "cell_type": "code",
   "execution_count": 172,
   "metadata": {},
   "outputs": [
    {
     "name": "stdout",
     "output_type": "stream",
     "text": [
      "Prediction shape:  (64, 99, 1000)  # (batch_size, sequence_length, vocab_size)\n",
      "scalar_loss:       6.891618\n"
     ]
    }
   ],
   "source": [
    "def loss(labels, logits):\n",
    "    return tf.keras.backend.sparse_categorical_crossentropy(labels, logits, from_logits=True)\n",
    "\n",
    "example_batch_loss  = loss(target_example_batch, example_batch_predictions)\n",
    "print(\"Prediction shape: \", example_batch_predictions.shape, \" # (batch_size, sequence_length, vocab_size)\") \n",
    "print(\"scalar_loss:      \", example_batch_loss.numpy().mean())"
   ]
  },
  {
   "cell_type": "markdown",
   "metadata": {},
   "source": [
    "## Compile Model"
   ]
  },
  {
   "cell_type": "code",
   "execution_count": 173,
   "metadata": {},
   "outputs": [],
   "source": [
    "model.compile(\n",
    "    optimizer=tf.train.AdamOptimizer(),\n",
    "    loss=loss)"
   ]
  },
  {
   "cell_type": "markdown",
   "metadata": {},
   "source": [
    "## Configure Checkpoints"
   ]
  },
  {
   "cell_type": "code",
   "execution_count": 174,
   "metadata": {},
   "outputs": [],
   "source": [
    "# Directory where the checkpoints will be saved\n",
    "checkpoint_dir = './_output/stl_rnn_training_checkpoints'\n",
    "# Name of the checkpoint files\n",
    "checkpoint_prefix = os.path.join(checkpoint_dir, \"ckpt_{epoch}\")\n",
    "\n",
    "checkpoint_callback=tf.keras.callbacks.ModelCheckpoint(\n",
    "    filepath=checkpoint_prefix,\n",
    "    save_weights_only=True)"
   ]
  },
  {
   "cell_type": "markdown",
   "metadata": {},
   "source": [
    "## Execute Training"
   ]
  },
  {
   "cell_type": "code",
   "execution_count": 175,
   "metadata": {},
   "outputs": [
    {
     "ename": "TypeError",
     "evalue": "build_model() got an unexpected keyword argument 'seq_length'",
     "output_type": "error",
     "traceback": [
      "\u001b[0;31m---------------------------------------------------------------------------\u001b[0m",
      "\u001b[0;31mTypeError\u001b[0m                                 Traceback (most recent call last)",
      "\u001b[0;32m<ipython-input-175-19b0177fd3cb>\u001b[0m in \u001b[0;36m<module>\u001b[0;34m\u001b[0m\n\u001b[1;32m      2\u001b[0m     \u001b[0mseq_length\u001b[0m\u001b[0;34m=\u001b[0m\u001b[0mseq_length\u001b[0m\u001b[0;34m,\u001b[0m\u001b[0;34m\u001b[0m\u001b[0m\n\u001b[1;32m      3\u001b[0m     \u001b[0mrnn_units\u001b[0m\u001b[0;34m=\u001b[0m\u001b[0mrnn_units\u001b[0m\u001b[0;34m,\u001b[0m\u001b[0;34m\u001b[0m\u001b[0m\n\u001b[0;32m----> 4\u001b[0;31m     batch_size=BATCH_SIZE)\n\u001b[0m",
      "\u001b[0;31mTypeError\u001b[0m: build_model() got an unexpected keyword argument 'seq_length'"
     ]
    }
   ],
   "source": [
    "model = build_model(\n",
    "    seq_length=seq_length,\n",
    "    rnn_units=rnn_units, \n",
    "    batch_size=BATCH_SIZE)"
   ]
  },
  {
   "cell_type": "code",
   "execution_count": 176,
   "metadata": {},
   "outputs": [],
   "source": [
    "optimizer = tf.train.AdamOptimizer()"
   ]
  },
  {
   "cell_type": "code",
   "execution_count": 177,
   "metadata": {},
   "outputs": [
    {
     "ename": "InternalError",
     "evalue": "Could not find valid device for node.\nNode: {{node SparseSoftmaxCrossEntropyWithLogits}} = SparseSoftmaxCrossEntropyWithLogits[T=DT_FLOAT, Tlabels=DT_FLOAT](dummy_input, dummy_input)\nAll kernels registered for op SparseSoftmaxCrossEntropyWithLogits :\n  device='XLA_CPU_JIT'; Tlabels in [DT_INT32, DT_INT64]; T in [DT_FLOAT, DT_DOUBLE, DT_HALF]\n  device='XLA_CPU'; Tlabels in [DT_INT32, DT_INT64]; T in [DT_FLOAT, DT_DOUBLE, DT_HALF]\n  device='CPU'; T in [DT_HALF]; Tlabels in [DT_INT64]\n  device='CPU'; T in [DT_HALF]; Tlabels in [DT_INT32]\n  device='CPU'; T in [DT_DOUBLE]; Tlabels in [DT_INT64]\n  device='CPU'; T in [DT_DOUBLE]; Tlabels in [DT_INT32]\n  device='CPU'; T in [DT_FLOAT]; Tlabels in [DT_INT64]\n  device='CPU'; T in [DT_FLOAT]; Tlabels in [DT_INT32]\n [Op:SparseSoftmaxCrossEntropyWithLogits] name: xentropy",
     "output_type": "error",
     "traceback": [
      "\u001b[0;31m---------------------------------------------------------------------------\u001b[0m",
      "\u001b[0;31mInternalError\u001b[0m                             Traceback (most recent call last)",
      "\u001b[0;32m<ipython-input-177-79962e82fab3>\u001b[0m in \u001b[0;36m<module>\u001b[0;34m\u001b[0m\n\u001b[1;32m     14\u001b[0m             \u001b[0;31m# This is the interesting step\u001b[0m\u001b[0;34m\u001b[0m\u001b[0;34m\u001b[0m\u001b[0m\n\u001b[1;32m     15\u001b[0m             \u001b[0mpredictions\u001b[0m \u001b[0;34m=\u001b[0m \u001b[0mmodel\u001b[0m\u001b[0;34m(\u001b[0m\u001b[0minp\u001b[0m\u001b[0;34m)\u001b[0m\u001b[0;34m\u001b[0m\u001b[0m\n\u001b[0;32m---> 16\u001b[0;31m             \u001b[0mloss\u001b[0m \u001b[0;34m=\u001b[0m \u001b[0mtf\u001b[0m\u001b[0;34m.\u001b[0m\u001b[0mlosses\u001b[0m\u001b[0;34m.\u001b[0m\u001b[0msparse_softmax_cross_entropy\u001b[0m\u001b[0;34m(\u001b[0m\u001b[0mtarget\u001b[0m\u001b[0;34m,\u001b[0m \u001b[0mpredictions\u001b[0m\u001b[0;34m)\u001b[0m\u001b[0;34m\u001b[0m\u001b[0m\n\u001b[0m\u001b[1;32m     17\u001b[0m \u001b[0;34m\u001b[0m\u001b[0m\n\u001b[1;32m     18\u001b[0m         \u001b[0mgrads\u001b[0m \u001b[0;34m=\u001b[0m \u001b[0mtape\u001b[0m\u001b[0;34m.\u001b[0m\u001b[0mgradient\u001b[0m\u001b[0;34m(\u001b[0m\u001b[0mloss\u001b[0m\u001b[0;34m,\u001b[0m \u001b[0mmodel\u001b[0m\u001b[0;34m.\u001b[0m\u001b[0mtrainable_variables\u001b[0m\u001b[0;34m)\u001b[0m\u001b[0;34m\u001b[0m\u001b[0m\n",
      "\u001b[0;32m~/jack/3d-form/.3d-form/lib/python3.5/site-packages/tensorflow/python/ops/losses/losses_impl.py\u001b[0m in \u001b[0;36msparse_softmax_cross_entropy\u001b[0;34m(labels, logits, weights, scope, loss_collection, reduction)\u001b[0m\n\u001b[1;32m    913\u001b[0m     losses = nn.sparse_softmax_cross_entropy_with_logits(labels=labels,\n\u001b[1;32m    914\u001b[0m                                                          \u001b[0mlogits\u001b[0m\u001b[0;34m=\u001b[0m\u001b[0mlogits\u001b[0m\u001b[0;34m,\u001b[0m\u001b[0;34m\u001b[0m\u001b[0m\n\u001b[0;32m--> 915\u001b[0;31m                                                          name=\"xentropy\")\n\u001b[0m\u001b[1;32m    916\u001b[0m     return compute_weighted_loss(\n\u001b[1;32m    917\u001b[0m         losses, weights, scope, loss_collection, reduction=reduction)\n",
      "\u001b[0;32m~/jack/3d-form/.3d-form/lib/python3.5/site-packages/tensorflow/python/ops/nn_ops.py\u001b[0m in \u001b[0;36msparse_softmax_cross_entropy_with_logits\u001b[0;34m(_sentinel, labels, logits, name)\u001b[0m\n\u001b[1;32m   2069\u001b[0m       \u001b[0;31m# _CrossEntropyGrad() in nn_grad but not here.\u001b[0m\u001b[0;34m\u001b[0m\u001b[0;34m\u001b[0m\u001b[0m\n\u001b[1;32m   2070\u001b[0m       cost, _ = gen_nn_ops.sparse_softmax_cross_entropy_with_logits(\n\u001b[0;32m-> 2071\u001b[0;31m           precise_logits, labels, name=name)\n\u001b[0m\u001b[1;32m   2072\u001b[0m       \u001b[0mcost\u001b[0m \u001b[0;34m=\u001b[0m \u001b[0marray_ops\u001b[0m\u001b[0;34m.\u001b[0m\u001b[0mreshape\u001b[0m\u001b[0;34m(\u001b[0m\u001b[0mcost\u001b[0m\u001b[0;34m,\u001b[0m \u001b[0mlabels_shape\u001b[0m\u001b[0;34m)\u001b[0m\u001b[0;34m\u001b[0m\u001b[0m\n\u001b[1;32m   2073\u001b[0m       \u001b[0mcost\u001b[0m\u001b[0;34m.\u001b[0m\u001b[0mset_shape\u001b[0m\u001b[0;34m(\u001b[0m\u001b[0mlabels_static_shape\u001b[0m\u001b[0;34m)\u001b[0m\u001b[0;34m\u001b[0m\u001b[0m\n",
      "\u001b[0;32m~/jack/3d-form/.3d-form/lib/python3.5/site-packages/tensorflow/python/ops/gen_nn_ops.py\u001b[0m in \u001b[0;36msparse_softmax_cross_entropy_with_logits\u001b[0;34m(features, labels, name)\u001b[0m\n\u001b[1;32m   7543\u001b[0m       \u001b[0;32melse\u001b[0m\u001b[0;34m:\u001b[0m\u001b[0;34m\u001b[0m\u001b[0m\n\u001b[1;32m   7544\u001b[0m         \u001b[0mmessage\u001b[0m \u001b[0;34m=\u001b[0m \u001b[0me\u001b[0m\u001b[0;34m.\u001b[0m\u001b[0mmessage\u001b[0m\u001b[0;34m\u001b[0m\u001b[0m\n\u001b[0;32m-> 7545\u001b[0;31m       \u001b[0m_six\u001b[0m\u001b[0;34m.\u001b[0m\u001b[0mraise_from\u001b[0m\u001b[0;34m(\u001b[0m\u001b[0m_core\u001b[0m\u001b[0;34m.\u001b[0m\u001b[0m_status_to_exception\u001b[0m\u001b[0;34m(\u001b[0m\u001b[0me\u001b[0m\u001b[0;34m.\u001b[0m\u001b[0mcode\u001b[0m\u001b[0;34m,\u001b[0m \u001b[0mmessage\u001b[0m\u001b[0;34m)\u001b[0m\u001b[0;34m,\u001b[0m \u001b[0;32mNone\u001b[0m\u001b[0;34m)\u001b[0m\u001b[0;34m\u001b[0m\u001b[0m\n\u001b[0m\u001b[1;32m   7546\u001b[0m \u001b[0;34m\u001b[0m\u001b[0m\n\u001b[1;32m   7547\u001b[0m \u001b[0;34m\u001b[0m\u001b[0m\n",
      "\u001b[0;32m~/jack/3d-form/.3d-form/lib/python3.5/site-packages/six.py\u001b[0m in \u001b[0;36mraise_from\u001b[0;34m(value, from_value)\u001b[0m\n",
      "\u001b[0;31mInternalError\u001b[0m: Could not find valid device for node.\nNode: {{node SparseSoftmaxCrossEntropyWithLogits}} = SparseSoftmaxCrossEntropyWithLogits[T=DT_FLOAT, Tlabels=DT_FLOAT](dummy_input, dummy_input)\nAll kernels registered for op SparseSoftmaxCrossEntropyWithLogits :\n  device='XLA_CPU_JIT'; Tlabels in [DT_INT32, DT_INT64]; T in [DT_FLOAT, DT_DOUBLE, DT_HALF]\n  device='XLA_CPU'; Tlabels in [DT_INT32, DT_INT64]; T in [DT_FLOAT, DT_DOUBLE, DT_HALF]\n  device='CPU'; T in [DT_HALF]; Tlabels in [DT_INT64]\n  device='CPU'; T in [DT_HALF]; Tlabels in [DT_INT32]\n  device='CPU'; T in [DT_DOUBLE]; Tlabels in [DT_INT64]\n  device='CPU'; T in [DT_DOUBLE]; Tlabels in [DT_INT32]\n  device='CPU'; T in [DT_FLOAT]; Tlabels in [DT_INT64]\n  device='CPU'; T in [DT_FLOAT]; Tlabels in [DT_INT32]\n [Op:SparseSoftmaxCrossEntropyWithLogits] name: xentropy"
     ]
    }
   ],
   "source": [
    "# Training step\n",
    "EPOCHS = 1\n",
    "\n",
    "for epoch in range(EPOCHS):\n",
    "    start = time.time()\n",
    "    \n",
    "    # initializing the hidden state at the start of every epoch\n",
    "    # initally hidden is None\n",
    "    hidden = model.reset_states()\n",
    "    \n",
    "    for (batch_n, (inp, target)) in enumerate(dataset):\n",
    "        with tf.GradientTape() as tape:\n",
    "            # feeding the hidden state back into the model\n",
    "            # This is the interesting step\n",
    "            predictions = model(inp)\n",
    "            loss = tf.losses.sparse_softmax_cross_entropy(target, predictions)\n",
    "              \n",
    "        grads = tape.gradient(loss, model.trainable_variables)\n",
    "        optimizer.apply_gradients(zip(grads, model.trainable_variables))\n",
    "\n",
    "        if batch_n % 100 == 0:\n",
    "            template = 'Epoch {} Batch {} Loss {:.4f}'\n",
    "            print(template.format(epoch+1, batch_n, loss))\n",
    "\n",
    "    # saving (checkpoint) the model every 5 epochs\n",
    "    if (epoch + 1) % 5 == 0:\n",
    "        model.save_weights(checkpoint_prefix.format(epoch=epoch))\n",
    "\n",
    "    print ('Epoch {} Loss {:.4f}'.format(epoch+1, loss))\n",
    "    print ('Time taken for 1 epoch {} sec\\n'.format(time.time() - start))\n",
    "\n",
    "model.save_weights(checkpoint_prefix.format(epoch=epoch))"
   ]
  },
  {
   "cell_type": "code",
   "execution_count": null,
   "metadata": {},
   "outputs": [],
   "source": []
  }
 ],
 "metadata": {
  "kernelspec": {
   "display_name": ".3d-form",
   "language": "python",
   "name": ".3d-form"
  },
  "language_info": {
   "codemirror_mode": {
    "name": "ipython",
    "version": 3
   },
   "file_extension": ".py",
   "mimetype": "text/x-python",
   "name": "python",
   "nbconvert_exporter": "python",
   "pygments_lexer": "ipython3",
   "version": "3.5.2"
  }
 },
 "nbformat": 4,
 "nbformat_minor": 2
}
